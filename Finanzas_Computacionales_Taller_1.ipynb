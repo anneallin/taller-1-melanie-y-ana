{
  "nbformat": 4,
  "nbformat_minor": 0,
  "metadata": {
    "colab": {
      "name": "Finanzas Computacionales-Taller 1 ",
      "provenance": [],
      "include_colab_link": true
    },
    "kernelspec": {
      "name": "python3",
      "display_name": "Python 3"
    },
    "language_info": {
      "name": "python"
    }
  },
  "cells": [
    {
      "cell_type": "markdown",
      "metadata": {
        "id": "view-in-github",
        "colab_type": "text"
      },
      "source": [
        "<a href=\"https://colab.research.google.com/github/anneallin/taller-1-melanie-y-ana/blob/main/Finanzas_Computacionales_Taller_1.ipynb\" target=\"_parent\"><img src=\"https://colab.research.google.com/assets/colab-badge.svg\" alt=\"Open In Colab\"/></a>"
      ]
    },
    {
      "cell_type": "markdown",
      "source": [
        "# UNIVERSIDAD EXTERNADO DE COLOMBIA\n",
        "#FINANZAS COMPUTACIONALES\n",
        "#TALLER 1\n",
        "#MELANIE CANDIL Y ANA ACOSTA\n",
        "\n",
        "\n",
        "\n"
      ],
      "metadata": {
        "id": "9fRJ5kX-1Tnr"
      }
    },
    {
      "cell_type": "code",
      "execution_count": 50,
      "metadata": {
        "id": "8go53Uzii9NA"
      },
      "outputs": [],
      "source": [
        "# Se importan las librerías\n",
        "import pandas as pd\n",
        "import numpy as np\n",
        "from scipy import stats\n",
        "from matplotlib import pyplot as plt\n",
        "import seaborn as sbn\n",
        "import warnings\n",
        "warnings.filterwarnings(\"ignore\")\n",
        "import scipy.stats as stats\n",
        "import pylab as py"
      ]
    },
    {
      "cell_type": "code",
      "source": [
        "# Para descargar los datos del mercado\n",
        "!pip install yfinance\n",
        "import yfinance as yf"
      ],
      "metadata": {
        "colab": {
          "base_uri": "https://localhost:8080/"
        },
        "id": "TiSP1M0wjKGy",
        "outputId": "666b74cc-08c7-4fa1-9828-0139c55820f7"
      },
      "execution_count": 51,
      "outputs": [
        {
          "output_type": "stream",
          "name": "stdout",
          "text": [
            "Looking in indexes: https://pypi.org/simple, https://us-python.pkg.dev/colab-wheels/public/simple/\n",
            "Requirement already satisfied: yfinance in /usr/local/lib/python3.7/dist-packages (0.1.74)\n",
            "Requirement already satisfied: lxml>=4.5.1 in /usr/local/lib/python3.7/dist-packages (from yfinance) (4.9.1)\n",
            "Requirement already satisfied: numpy>=1.15 in /usr/local/lib/python3.7/dist-packages (from yfinance) (1.21.6)\n",
            "Requirement already satisfied: requests>=2.26 in /usr/local/lib/python3.7/dist-packages (from yfinance) (2.28.1)\n",
            "Requirement already satisfied: multitasking>=0.0.7 in /usr/local/lib/python3.7/dist-packages (from yfinance) (0.0.11)\n",
            "Requirement already satisfied: pandas>=0.24.0 in /usr/local/lib/python3.7/dist-packages (from yfinance) (1.3.5)\n",
            "Requirement already satisfied: python-dateutil>=2.7.3 in /usr/local/lib/python3.7/dist-packages (from pandas>=0.24.0->yfinance) (2.8.2)\n",
            "Requirement already satisfied: pytz>=2017.3 in /usr/local/lib/python3.7/dist-packages (from pandas>=0.24.0->yfinance) (2022.2.1)\n",
            "Requirement already satisfied: six>=1.5 in /usr/local/lib/python3.7/dist-packages (from python-dateutil>=2.7.3->pandas>=0.24.0->yfinance) (1.15.0)\n",
            "Requirement already satisfied: urllib3<1.27,>=1.21.1 in /usr/local/lib/python3.7/dist-packages (from requests>=2.26->yfinance) (1.24.3)\n",
            "Requirement already satisfied: certifi>=2017.4.17 in /usr/local/lib/python3.7/dist-packages (from requests>=2.26->yfinance) (2022.6.15)\n",
            "Requirement already satisfied: idna<4,>=2.5 in /usr/local/lib/python3.7/dist-packages (from requests>=2.26->yfinance) (2.10)\n",
            "Requirement already satisfied: charset-normalizer<3,>=2 in /usr/local/lib/python3.7/dist-packages (from requests>=2.26->yfinance) (2.1.0)\n"
          ]
        }
      ]
    },
    {
      "cell_type": "markdown",
      "source": [
        "1. **Descargue las series de tiempo de precios (ajustados) mensuales para el \n",
        "\n",
        "*   Elemento de la lista\n",
        "*   Elemento de la lista\n",
        "\n",
        "periodo Ene-2010 a Dic-2021 de las siguientes 4 acciones: MCD, GE, IBM, T. Con esta información:**\n",
        "\n",
        "\n"
      ],
      "metadata": {
        "id": "QkafsaAKkSvu"
      }
    },
    {
      "cell_type": "code",
      "source": [
        "# Precios históricos para los activos seleccionados\n",
        "activos = [\"MCD\", \"GE\",\"IBM\",\"T\"]\n",
        "precios = yf.download(activos,start=\"2010-01-01\",end=\"2021-12-31\",interval=\"1Mo\").dropna()\n",
        "precios = precios.loc[:,\"Adj Close\"]\n",
        "precios"
      ],
      "metadata": {
        "colab": {
          "base_uri": "https://localhost:8080/",
          "height": 472
        },
        "id": "dAMU_Ch2jLby",
        "outputId": "dfaff4d3-f7b2-4fce-feac-ec0f67568200"
      },
      "execution_count": 81,
      "outputs": [
        {
          "output_type": "stream",
          "name": "stdout",
          "text": [
            "[*********************100%***********************]  4 of 4 completed\n"
          ]
        },
        {
          "output_type": "execute_result",
          "data": {
            "text/plain": [
              "                    GE         IBM         MCD          T\n",
              "Date                                                     \n",
              "2010-01-01   91.124512   76.034470   43.710953   7.295420\n",
              "2010-02-01   91.011169   78.997818   44.705189   7.279536\n",
              "2010-03-01  103.782219   80.031342   47.111691   7.581749\n",
              "2010-04-01  107.545799   80.499405   49.844330   7.646297\n",
              "2010-05-01   93.232948   78.165520   47.217613   7.283842\n",
              "...                ...         ...         ...        ...\n",
              "2021-08-01  105.016113  126.196465  232.276596  19.121510\n",
              "2021-09-01  102.645004  126.366852  237.139893  18.835596\n",
              "2021-10-01  104.559380  113.787468  241.506790  17.615223\n",
              "2021-11-01   94.708633  111.410393  240.572433  16.332382\n",
              "2021-12-01   94.190186  128.862701  265.117676  17.598623\n",
              "\n",
              "[144 rows x 4 columns]"
            ],
            "text/html": [
              "\n",
              "  <div id=\"df-621c67ae-0d19-4d27-9d87-78d3e0174d89\">\n",
              "    <div class=\"colab-df-container\">\n",
              "      <div>\n",
              "<style scoped>\n",
              "    .dataframe tbody tr th:only-of-type {\n",
              "        vertical-align: middle;\n",
              "    }\n",
              "\n",
              "    .dataframe tbody tr th {\n",
              "        vertical-align: top;\n",
              "    }\n",
              "\n",
              "    .dataframe thead th {\n",
              "        text-align: right;\n",
              "    }\n",
              "</style>\n",
              "<table border=\"1\" class=\"dataframe\">\n",
              "  <thead>\n",
              "    <tr style=\"text-align: right;\">\n",
              "      <th></th>\n",
              "      <th>GE</th>\n",
              "      <th>IBM</th>\n",
              "      <th>MCD</th>\n",
              "      <th>T</th>\n",
              "    </tr>\n",
              "    <tr>\n",
              "      <th>Date</th>\n",
              "      <th></th>\n",
              "      <th></th>\n",
              "      <th></th>\n",
              "      <th></th>\n",
              "    </tr>\n",
              "  </thead>\n",
              "  <tbody>\n",
              "    <tr>\n",
              "      <th>2010-01-01</th>\n",
              "      <td>91.124512</td>\n",
              "      <td>76.034470</td>\n",
              "      <td>43.710953</td>\n",
              "      <td>7.295420</td>\n",
              "    </tr>\n",
              "    <tr>\n",
              "      <th>2010-02-01</th>\n",
              "      <td>91.011169</td>\n",
              "      <td>78.997818</td>\n",
              "      <td>44.705189</td>\n",
              "      <td>7.279536</td>\n",
              "    </tr>\n",
              "    <tr>\n",
              "      <th>2010-03-01</th>\n",
              "      <td>103.782219</td>\n",
              "      <td>80.031342</td>\n",
              "      <td>47.111691</td>\n",
              "      <td>7.581749</td>\n",
              "    </tr>\n",
              "    <tr>\n",
              "      <th>2010-04-01</th>\n",
              "      <td>107.545799</td>\n",
              "      <td>80.499405</td>\n",
              "      <td>49.844330</td>\n",
              "      <td>7.646297</td>\n",
              "    </tr>\n",
              "    <tr>\n",
              "      <th>2010-05-01</th>\n",
              "      <td>93.232948</td>\n",
              "      <td>78.165520</td>\n",
              "      <td>47.217613</td>\n",
              "      <td>7.283842</td>\n",
              "    </tr>\n",
              "    <tr>\n",
              "      <th>...</th>\n",
              "      <td>...</td>\n",
              "      <td>...</td>\n",
              "      <td>...</td>\n",
              "      <td>...</td>\n",
              "    </tr>\n",
              "    <tr>\n",
              "      <th>2021-08-01</th>\n",
              "      <td>105.016113</td>\n",
              "      <td>126.196465</td>\n",
              "      <td>232.276596</td>\n",
              "      <td>19.121510</td>\n",
              "    </tr>\n",
              "    <tr>\n",
              "      <th>2021-09-01</th>\n",
              "      <td>102.645004</td>\n",
              "      <td>126.366852</td>\n",
              "      <td>237.139893</td>\n",
              "      <td>18.835596</td>\n",
              "    </tr>\n",
              "    <tr>\n",
              "      <th>2021-10-01</th>\n",
              "      <td>104.559380</td>\n",
              "      <td>113.787468</td>\n",
              "      <td>241.506790</td>\n",
              "      <td>17.615223</td>\n",
              "    </tr>\n",
              "    <tr>\n",
              "      <th>2021-11-01</th>\n",
              "      <td>94.708633</td>\n",
              "      <td>111.410393</td>\n",
              "      <td>240.572433</td>\n",
              "      <td>16.332382</td>\n",
              "    </tr>\n",
              "    <tr>\n",
              "      <th>2021-12-01</th>\n",
              "      <td>94.190186</td>\n",
              "      <td>128.862701</td>\n",
              "      <td>265.117676</td>\n",
              "      <td>17.598623</td>\n",
              "    </tr>\n",
              "  </tbody>\n",
              "</table>\n",
              "<p>144 rows × 4 columns</p>\n",
              "</div>\n",
              "      <button class=\"colab-df-convert\" onclick=\"convertToInteractive('df-621c67ae-0d19-4d27-9d87-78d3e0174d89')\"\n",
              "              title=\"Convert this dataframe to an interactive table.\"\n",
              "              style=\"display:none;\">\n",
              "        \n",
              "  <svg xmlns=\"http://www.w3.org/2000/svg\" height=\"24px\"viewBox=\"0 0 24 24\"\n",
              "       width=\"24px\">\n",
              "    <path d=\"M0 0h24v24H0V0z\" fill=\"none\"/>\n",
              "    <path d=\"M18.56 5.44l.94 2.06.94-2.06 2.06-.94-2.06-.94-.94-2.06-.94 2.06-2.06.94zm-11 1L8.5 8.5l.94-2.06 2.06-.94-2.06-.94L8.5 2.5l-.94 2.06-2.06.94zm10 10l.94 2.06.94-2.06 2.06-.94-2.06-.94-.94-2.06-.94 2.06-2.06.94z\"/><path d=\"M17.41 7.96l-1.37-1.37c-.4-.4-.92-.59-1.43-.59-.52 0-1.04.2-1.43.59L10.3 9.45l-7.72 7.72c-.78.78-.78 2.05 0 2.83L4 21.41c.39.39.9.59 1.41.59.51 0 1.02-.2 1.41-.59l7.78-7.78 2.81-2.81c.8-.78.8-2.07 0-2.86zM5.41 20L4 18.59l7.72-7.72 1.47 1.35L5.41 20z\"/>\n",
              "  </svg>\n",
              "      </button>\n",
              "      \n",
              "  <style>\n",
              "    .colab-df-container {\n",
              "      display:flex;\n",
              "      flex-wrap:wrap;\n",
              "      gap: 12px;\n",
              "    }\n",
              "\n",
              "    .colab-df-convert {\n",
              "      background-color: #E8F0FE;\n",
              "      border: none;\n",
              "      border-radius: 50%;\n",
              "      cursor: pointer;\n",
              "      display: none;\n",
              "      fill: #1967D2;\n",
              "      height: 32px;\n",
              "      padding: 0 0 0 0;\n",
              "      width: 32px;\n",
              "    }\n",
              "\n",
              "    .colab-df-convert:hover {\n",
              "      background-color: #E2EBFA;\n",
              "      box-shadow: 0px 1px 2px rgba(60, 64, 67, 0.3), 0px 1px 3px 1px rgba(60, 64, 67, 0.15);\n",
              "      fill: #174EA6;\n",
              "    }\n",
              "\n",
              "    [theme=dark] .colab-df-convert {\n",
              "      background-color: #3B4455;\n",
              "      fill: #D2E3FC;\n",
              "    }\n",
              "\n",
              "    [theme=dark] .colab-df-convert:hover {\n",
              "      background-color: #434B5C;\n",
              "      box-shadow: 0px 1px 3px 1px rgba(0, 0, 0, 0.15);\n",
              "      filter: drop-shadow(0px 1px 2px rgba(0, 0, 0, 0.3));\n",
              "      fill: #FFFFFF;\n",
              "    }\n",
              "  </style>\n",
              "\n",
              "      <script>\n",
              "        const buttonEl =\n",
              "          document.querySelector('#df-621c67ae-0d19-4d27-9d87-78d3e0174d89 button.colab-df-convert');\n",
              "        buttonEl.style.display =\n",
              "          google.colab.kernel.accessAllowed ? 'block' : 'none';\n",
              "\n",
              "        async function convertToInteractive(key) {\n",
              "          const element = document.querySelector('#df-621c67ae-0d19-4d27-9d87-78d3e0174d89');\n",
              "          const dataTable =\n",
              "            await google.colab.kernel.invokeFunction('convertToInteractive',\n",
              "                                                     [key], {});\n",
              "          if (!dataTable) return;\n",
              "\n",
              "          const docLinkHtml = 'Like what you see? Visit the ' +\n",
              "            '<a target=\"_blank\" href=https://colab.research.google.com/notebooks/data_table.ipynb>data table notebook</a>'\n",
              "            + ' to learn more about interactive tables.';\n",
              "          element.innerHTML = '';\n",
              "          dataTable['output_type'] = 'display_data';\n",
              "          await google.colab.output.renderOutput(dataTable, element);\n",
              "          const docLink = document.createElement('div');\n",
              "          docLink.innerHTML = docLinkHtml;\n",
              "          element.appendChild(docLink);\n",
              "        }\n",
              "      </script>\n",
              "    </div>\n",
              "  </div>\n",
              "  "
            ]
          },
          "metadata": {},
          "execution_count": 81
        }
      ]
    },
    {
      "cell_type": "code",
      "source": [
        "precios.plot();"
      ],
      "metadata": {
        "colab": {
          "base_uri": "https://localhost:8080/",
          "height": 279
        },
        "id": "xVJuRS6l7hmc",
        "outputId": "a0291a1d-893d-4ad8-8860-1247b32ff45d"
      },
      "execution_count": null,
      "outputs": [
        {
          "output_type": "display_data",
          "data": {
            "text/plain": [
              "<Figure size 432x288 with 1 Axes>"
            ],
            "image/png": "[encoded data removed]"
          },
          "metadata": {
            "needs_background": "light"
          }
        }
      ]
    },
    {
      "cell_type": "markdown",
      "source": [
        "a.**Calcule los retornos logarítmicos**.\n"
      ],
      "metadata": {
        "id": "zAyPsv1Ykygq"
      }
    },
    {
      "cell_type": "code",
      "source": [
        "retornos= np.log(precios/precios.shift()).dropna()\n",
        "retornos"
      ],
      "metadata": {
        "colab": {
          "base_uri": "https://localhost:8080/",
          "height": 455
        },
        "id": "uNNDepnYk_84",
        "outputId": "7930bbb1-3a91-4f1d-c531-9b5f4754353a"
      },
      "execution_count": null,
      "outputs": [
        {
          "output_type": "execute_result",
          "data": {
            "text/plain": [
              "                  GE       IBM       MCD         T\n",
              "Date                                              \n",
              "2010-02-01 -0.001244  0.038233  0.022491 -0.002180\n",
              "2010-03-01  0.131313  0.012998  0.052432  0.040677\n",
              "2010-04-01  0.035622  0.005831  0.056384  0.008478\n",
              "2010-05-01 -0.142815 -0.029421 -0.054138 -0.048563\n",
              "2010-06-01 -0.125612 -0.009200 -0.006700 -0.004537\n",
              "...              ...       ...       ...       ...\n",
              "2021-08-01  0.017320 -0.004408 -0.021868  0.001370\n",
              "2021-09-01 -0.022837  0.001349  0.020721 -0.015065\n",
              "2021-10-01  0.018479 -0.104857  0.018247 -0.066985\n",
              "2021-11-01 -0.098950 -0.021112 -0.003876 -0.075614\n",
              "2021-12-01 -0.005489  0.145527  0.097153  0.074671\n",
              "\n",
              "[143 rows x 4 columns]"
            ],
            "text/html": [
              "\n",
              "  <div id=\"df-33254756-2c3a-4365-8226-aac69051306b\">\n",
              "    <div class=\"colab-df-container\">\n",
              "      <div>\n",
              "<style scoped>\n",
              "    .dataframe tbody tr th:only-of-type {\n",
              "        vertical-align: middle;\n",
              "    }\n",
              "\n",
              "    .dataframe tbody tr th {\n",
              "        vertical-align: top;\n",
              "    }\n",
              "\n",
              "    .dataframe thead th {\n",
              "        text-align: right;\n",
              "    }\n",
              "</style>\n",
              "<table border=\"1\" class=\"dataframe\">\n",
              "  <thead>\n",
              "    <tr style=\"text-align: right;\">\n",
              "      <th></th>\n",
              "      <th>GE</th>\n",
              "      <th>IBM</th>\n",
              "      <th>MCD</th>\n",
              "      <th>T</th>\n",
              "    </tr>\n",
              "    <tr>\n",
              "      <th>Date</th>\n",
              "      <th></th>\n",
              "      <th></th>\n",
              "      <th></th>\n",
              "      <th></th>\n",
              "    </tr>\n",
              "  </thead>\n",
              "  <tbody>\n",
              "    <tr>\n",
              "      <th>2010-02-01</th>\n",
              "      <td>-0.001244</td>\n",
              "      <td>0.038233</td>\n",
              "      <td>0.022491</td>\n",
              "      <td>-0.002180</td>\n",
              "    </tr>\n",
              "    <tr>\n",
              "      <th>2010-03-01</th>\n",
              "      <td>0.131313</td>\n",
              "      <td>0.012998</td>\n",
              "      <td>0.052432</td>\n",
              "      <td>0.040677</td>\n",
              "    </tr>\n",
              "    <tr>\n",
              "      <th>2010-04-01</th>\n",
              "      <td>0.035622</td>\n",
              "      <td>0.005831</td>\n",
              "      <td>0.056384</td>\n",
              "      <td>0.008478</td>\n",
              "    </tr>\n",
              "    <tr>\n",
              "      <th>2010-05-01</th>\n",
              "      <td>-0.142815</td>\n",
              "      <td>-0.029421</td>\n",
              "      <td>-0.054138</td>\n",
              "      <td>-0.048563</td>\n",
              "    </tr>\n",
              "    <tr>\n",
              "      <th>2010-06-01</th>\n",
              "      <td>-0.125612</td>\n",
              "      <td>-0.009200</td>\n",
              "      <td>-0.006700</td>\n",
              "      <td>-0.004537</td>\n",
              "    </tr>\n",
              "    <tr>\n",
              "      <th>...</th>\n",
              "      <td>...</td>\n",
              "      <td>...</td>\n",
              "      <td>...</td>\n",
              "      <td>...</td>\n",
              "    </tr>\n",
              "    <tr>\n",
              "      <th>2021-08-01</th>\n",
              "      <td>0.017320</td>\n",
              "      <td>-0.004408</td>\n",
              "      <td>-0.021868</td>\n",
              "      <td>0.001370</td>\n",
              "    </tr>\n",
              "    <tr>\n",
              "      <th>2021-09-01</th>\n",
              "      <td>-0.022837</td>\n",
              "      <td>0.001349</td>\n",
              "      <td>0.020721</td>\n",
              "      <td>-0.015065</td>\n",
              "    </tr>\n",
              "    <tr>\n",
              "      <th>2021-10-01</th>\n",
              "      <td>0.018479</td>\n",
              "      <td>-0.104857</td>\n",
              "      <td>0.018247</td>\n",
              "      <td>-0.066985</td>\n",
              "    </tr>\n",
              "    <tr>\n",
              "      <th>2021-11-01</th>\n",
              "      <td>-0.098950</td>\n",
              "      <td>-0.021112</td>\n",
              "      <td>-0.003876</td>\n",
              "      <td>-0.075614</td>\n",
              "    </tr>\n",
              "    <tr>\n",
              "      <th>2021-12-01</th>\n",
              "      <td>-0.005489</td>\n",
              "      <td>0.145527</td>\n",
              "      <td>0.097153</td>\n",
              "      <td>0.074671</td>\n",
              "    </tr>\n",
              "  </tbody>\n",
              "</table>\n",
              "<p>143 rows × 4 columns</p>\n",
              "</div>\n",
              "      <button class=\"colab-df-convert\" onclick=\"convertToInteractive('df-33254756-2c3a-4365-8226-aac69051306b')\"\n",
              "              title=\"Convert this dataframe to an interactive table.\"\n",
              "              style=\"display:none;\">\n",
              "        \n",
              "  <svg xmlns=\"http://www.w3.org/2000/svg\" height=\"24px\"viewBox=\"0 0 24 24\"\n",
              "       width=\"24px\">\n",
              "    <path d=\"M0 0h24v24H0V0z\" fill=\"none\"/>\n",
              "    <path d=\"M18.56 5.44l.94 2.06.94-2.06 2.06-.94-2.06-.94-.94-2.06-.94 2.06-2.06.94zm-11 1L8.5 8.5l.94-2.06 2.06-.94-2.06-.94L8.5 2.5l-.94 2.06-2.06.94zm10 10l.94 2.06.94-2.06 2.06-.94-2.06-.94-.94-2.06-.94 2.06-2.06.94z\"/><path d=\"M17.41 7.96l-1.37-1.37c-.4-.4-.92-.59-1.43-.59-.52 0-1.04.2-1.43.59L10.3 9.45l-7.72 7.72c-.78.78-.78 2.05 0 2.83L4 21.41c.39.39.9.59 1.41.59.51 0 1.02-.2 1.41-.59l7.78-7.78 2.81-2.81c.8-.78.8-2.07 0-2.86zM5.41 20L4 18.59l7.72-7.72 1.47 1.35L5.41 20z\"/>\n",
              "  </svg>\n",
              "      </button>\n",
              "      \n",
              "  <style>\n",
              "    .colab-df-container {\n",
              "      display:flex;\n",
              "      flex-wrap:wrap;\n",
              "      gap: 12px;\n",
              "    }\n",
              "\n",
              "    .colab-df-convert {\n",
              "      background-color: #E8F0FE;\n",
              "      border: none;\n",
              "      border-radius: 50%;\n",
              "      cursor: pointer;\n",
              "      display: none;\n",
              "      fill: #1967D2;\n",
              "      height: 32px;\n",
              "      padding: 0 0 0 0;\n",
              "      width: 32px;\n",
              "    }\n",
              "\n",
              "    .colab-df-convert:hover {\n",
              "      background-color: #E2EBFA;\n",
              "      box-shadow: 0px 1px 2px rgba(60, 64, 67, 0.3), 0px 1px 3px 1px rgba(60, 64, 67, 0.15);\n",
              "      fill: #174EA6;\n",
              "    }\n",
              "\n",
              "    [theme=dark] .colab-df-convert {\n",
              "      background-color: #3B4455;\n",
              "      fill: #D2E3FC;\n",
              "    }\n",
              "\n",
              "    [theme=dark] .colab-df-convert:hover {\n",
              "      background-color: #434B5C;\n",
              "      box-shadow: 0px 1px 3px 1px rgba(0, 0, 0, 0.15);\n",
              "      filter: drop-shadow(0px 1px 2px rgba(0, 0, 0, 0.3));\n",
              "      fill: #FFFFFF;\n",
              "    }\n",
              "  </style>\n",
              "\n",
              "      <script>\n",
              "        const buttonEl =\n",
              "          document.querySelector('#df-33254756-2c3a-4365-8226-aac69051306b button.colab-df-convert');\n",
              "        buttonEl.style.display =\n",
              "          google.colab.kernel.accessAllowed ? 'block' : 'none';\n",
              "\n",
              "        async function convertToInteractive(key) {\n",
              "          const element = document.querySelector('#df-33254756-2c3a-4365-8226-aac69051306b');\n",
              "          const dataTable =\n",
              "            await google.colab.kernel.invokeFunction('convertToInteractive',\n",
              "                                                     [key], {});\n",
              "          if (!dataTable) return;\n",
              "\n",
              "          const docLinkHtml = 'Like what you see? Visit the ' +\n",
              "            '<a target=\"_blank\" href=https://colab.research.google.com/notebooks/data_table.ipynb>data table notebook</a>'\n",
              "            + ' to learn more about interactive tables.';\n",
              "          element.innerHTML = '';\n",
              "          dataTable['output_type'] = 'display_data';\n",
              "          await google.colab.output.renderOutput(dataTable, element);\n",
              "          const docLink = document.createElement('div');\n",
              "          docLink.innerHTML = docLinkHtml;\n",
              "          element.appendChild(docLink);\n",
              "        }\n",
              "      </script>\n",
              "    </div>\n",
              "  </div>\n",
              "  "
            ]
          },
          "metadata": {},
          "execution_count": 7
        }
      ]
    },
    {
      "cell_type": "markdown",
      "source": [
        "\n",
        "GE\n",
        "*   Se observó que durante el periodo analizado, el comportamientos de los retornos no fue optimo, puesto que presentó una tendencia negativa y cerró con rendimientos nada favorables. \n",
        "\n",
        "IBM, MCD y T\n",
        "*   Tuvieron un comportamiento de los retornos muy volatil, no siguierón una tendencia marcada. Asi como generaron ganancias tambien obtuvieron perdidas. Son activos con retornos inciertos y muy poco seguros.\n",
        "\n",
        "\n",
        "\n",
        "\n"
      ],
      "metadata": {
        "id": "DR5vncnR05Mn"
      }
    },
    {
      "cell_type": "markdown",
      "source": [
        "b. **Calcule las estadísticas descriptivas (media, mediana, desv. estándar, curtosis, simetría)\n",
        "para cada uno de ellos. Presente los estadísticos en una tabla para todos los activos**."
      ],
      "metadata": {
        "id": "aa9doq6dlgXU"
      }
    },
    {
      "cell_type": "code",
      "source": [
        "Estadistica = pd.DataFrame()\n",
        "\n",
        "Media=retornos.mean()\n",
        "Mediana=retornos.median()\n",
        "Kurtosis= retornos.kurt()\n",
        "Asimetria= retornos.skew()\n",
        "Desviacion_Estandar=retornos.std()\n",
        "Estadistica[\"Media\"]= Media\n",
        "Estadistica[\"Mediana\"]= Mediana\n",
        "Estadistica[\"Desviacion_Estandar\"]= Desviacion_Estandar\n",
        "Estadistica[\"Kurtosis\"]= Kurtosis\n",
        "Estadistica[\"Asimetria\"]= Asimetria\n",
        "print(Estadistica)"
      ],
      "metadata": {
        "colab": {
          "base_uri": "https://localhost:8080/"
        },
        "id": "axB6QSFklt-A",
        "outputId": "3796aaf5-e69c-4e56-e16b-e88818f93863"
      },
      "execution_count": null,
      "outputs": [
        {
          "output_type": "stream",
          "name": "stdout",
          "text": [
            "        Media   Mediana  Desviacion_Estandar  Kurtosis  Asimetria\n",
            "GE   0.000231 -0.001929             0.086937  3.040752  -0.088295\n",
            "IBM  0.003689  0.002619             0.060536  2.653592  -0.564635\n",
            "MCD  0.012605  0.011742             0.042488  1.596986  -0.410192\n",
            "T    0.006158  0.006484             0.048299  1.549806  -0.707907\n"
          ]
        }
      ]
    },
    {
      "cell_type": "markdown",
      "source": [
        "GE\n",
        "\n",
        "\n",
        "*   El 50% de los retornos toma valores iguales o inferiores a -0.001930\n",
        "*   En promedio los retornos se acercan a 0.000231\n",
        "*   Los retornos no son simetricos, ya que la media y la mediana no toman valores similares, siendo uno positivo y el otro negativo.\n",
        "*   Se observa que la dispersión de los retornos en relación con el promedio de los propios rendimientos fue0.086.Esta accion es la que tiene mayor desviación de sus retornos, es decir, genera mayor incertidumbre respecto a su rendimiento.\n",
        "*  Como los datos presentan una asimetria de -0.08, signiica que presentan una asimetria hacia la derecha.\n",
        "*   La kurtosis es de tipo Leptocúrtica,es decir es una curva muy apuntada.\n",
        "\n",
        "\n",
        "\n",
        "IBM\n",
        "\n",
        "*   El 50% de los retornos toma valores iguales o inferiores a 0.002619 \n",
        "*   En promedio los retornos se acercan a  0.003689\n",
        "*   Los retornos no son simetricos, ya que la media y la mediana no toman valores similares, aunque los dos toman valores positivos.\n",
        "*   Se observa que la dispersión de los retornos en relación con el promedio de los propios rendimientos fue 0.060.Presenta una desviacion menor de los retornos que GE.\n",
        "*  Como los datos presentan una asimetria de -0.56, signiica que presentan una asimetria hacia la derecha.\n",
        "*   La kurtosis nos indica que es una curva apuntada, aunque en menor proporcion que la del activo \"GE\".\n",
        "\n",
        "MCD\n",
        "\n",
        "*   El 50% de los retornos toma valores iguales o inferiores a 0.011\n",
        "*   En promedio los retornos se acercan a 0.012  \n",
        "*   Los retornos no son simetricos, ya que la media y la mediana no toman valores similares, aunque los dos toman valores positivos.\n",
        "*   Se observa que la dispersión de los retornos en relación con el promedio de los propios rendimientos fue 0.042.Presenta una desviacion menor de los retornos que GE e IMB. Es decir, los retornos son un poco menos volatiles.\n",
        "*  Como los datos presentan una asimetria de -0.410, signiica que presentan una asimetria hacia la derecha.\n",
        "*   La kurtosis nos indica que es una curva un poco apuntada, aunque no tan apuntada como las del activo \"GE\" e \"IBM\", puesto que estas presentan mayor kurtosis.\n",
        "\n",
        "T\n",
        "*   El 50% de los retornos toma valores iguales o inferiores a 0.006\n",
        "*   En promedio los retornos se acercan a 0.006\n",
        "*   Los retornos son simetricos, ya que la media y la mediana toman valores similares.\n",
        "*   Se observa que la dispersión de los retornos en relación con el promedio de los propios rendimientos fue  0.048.\n",
        "*  Como los datos presentan una asimetria de -0.70, signiica que presentan una asimetria hacia la derecha.\n",
        "*   La kurtosis nos indica que los datos están muy concentrados en la media.\n",
        "\n",
        "\n",
        "\n",
        "\n"
      ],
      "metadata": {
        "id": "RMQQBCsbRX7P"
      }
    },
    {
      "cell_type": "markdown",
      "source": [
        ""
      ],
      "metadata": {
        "id": "UYbFyz-8H4sR"
      }
    },
    {
      "cell_type": "markdown",
      "source": [
        "c. **Presente en un Data Frame los retornos esperados y las volatilidades anualizadas**"
      ],
      "metadata": {
        "id": "3Ns_cj7Ol90a"
      }
    },
    {
      "cell_type": "code",
      "source": [
        "#  Retorno esperado y la volatilidad anualizada de GE\n",
        "mean,sigma= retornos[\"GE\"].mean(),retornos[\"GE\"].std()\n",
        "print(mean,sigma)\n",
        "mean*12, sigma*np.sqrt(12)"
      ],
      "metadata": {
        "id": "pTeUnm9do8Hh",
        "colab": {
          "base_uri": "https://localhost:8080/"
        },
        "outputId": "782ca6f3-6fe9-4f5f-b780-e5055a63f79c"
      },
      "execution_count": null,
      "outputs": [
        {
          "output_type": "stream",
          "name": "stdout",
          "text": [
            "0.00023139448046889248 0.08693660936373675\n"
          ]
        },
        {
          "output_type": "execute_result",
          "data": {
            "text/plain": [
              "(0.0027767337656267096, 0.3011572489115205)"
            ]
          },
          "metadata": {},
          "execution_count": 9
        }
      ]
    },
    {
      "cell_type": "markdown",
      "source": [
        "\n",
        "\n",
        "*   Se espera un retorno del 0.002, teniendo en cuenta que puede variar en  0.30 unidades, ya sea de manera positiva o negativa. \n",
        "*Se asume un riesgo alto por un rendimiento bajo.Es decir, el riesgo no justifica las posibles ganancias derivada de los retornos.\n",
        "\n",
        "\n"
      ],
      "metadata": {
        "id": "IoIwLrplEjoi"
      }
    },
    {
      "cell_type": "code",
      "source": [
        "#  Retorno esperado y la volatilidad anualizada de IBM\n",
        "mean,sigma= retornos[\"IBM\"].mean(),retornos[\"IBM\"].std()\n",
        "print(mean,sigma)\n",
        "mean*12, sigma*np.sqrt(12)"
      ],
      "metadata": {
        "id": "nECBWqvRmCht",
        "colab": {
          "base_uri": "https://localhost:8080/"
        },
        "outputId": "ddefe67b-b2cb-4228-b7b8-9c63b3978d18"
      },
      "execution_count": null,
      "outputs": [
        {
          "output_type": "stream",
          "name": "stdout",
          "text": [
            "0.003689235120406966 0.06053613337105465\n"
          ]
        },
        {
          "output_type": "execute_result",
          "data": {
            "text/plain": [
              "(0.04427082144488359, 0.20970331738486492)"
            ]
          },
          "metadata": {},
          "execution_count": 10
        }
      ]
    },
    {
      "cell_type": "markdown",
      "source": [
        "*   Se espera un retorno del 0.044, teniendo en cuenta que puede variar en  0.209 unidades, ya sea de manera positiva o negativa. \n",
        "*Este activo tiene una mejor relacion riesgo/retorno. Es decir, tiene un mayor nivel de retorno esperado a un  menor riesgo. Sin embargo el riesgo sigue siendo mayor al retorno.\n"
      ],
      "metadata": {
        "id": "zXVlz0b6GTxB"
      }
    },
    {
      "cell_type": "code",
      "source": [
        "#  Retorno esperado y la volatilidad anualizada de MCD\n",
        "mean,sigma= retornos[\"MCD\"].mean(),retornos[\"MCD\"].std()\n",
        "print(mean,sigma)\n",
        "mean*12, sigma*np.sqrt(12)"
      ],
      "metadata": {
        "colab": {
          "base_uri": "https://localhost:8080/"
        },
        "id": "ubtDqOagPY-4",
        "outputId": "d6dee7a3-a8a8-45e5-e20f-e9fbeb4ad5b0"
      },
      "execution_count": null,
      "outputs": [
        {
          "output_type": "stream",
          "name": "stdout",
          "text": [
            "0.012605421367863268 0.04248817570059139\n"
          ]
        },
        {
          "output_type": "execute_result",
          "data": {
            "text/plain": [
              "(0.15126505641435922, 0.1471833580686753)"
            ]
          },
          "metadata": {},
          "execution_count": 11
        }
      ]
    },
    {
      "cell_type": "markdown",
      "source": [
        "*   Se espera un retorno del 0.15, asumiendo una variación en  0,14 unidades, ya sea de manera positiva o negativa. \n",
        "*La relacion riesgo/retorno es  muy similar. Es decir, aceptas un menor riesgo para obtener un mayor retorno, sn embargo, este retorno no es tan alto."
      ],
      "metadata": {
        "id": "tbIuU-ckGU4_"
      }
    },
    {
      "cell_type": "code",
      "source": [
        "#  Retorno esperado y la volatilidad anualizada de GE\n",
        "mean,sigma= retornos[\"T\"].mean(),retornos[\"T\"].std()\n",
        "print(mean,sigma)\n",
        "mean*12, sigma*np.sqrt(12)"
      ],
      "metadata": {
        "colab": {
          "base_uri": "https://localhost:8080/"
        },
        "id": "YSXrMorbPcoy",
        "outputId": "42d4f716-4da6-4004-da1e-dffef829403a"
      },
      "execution_count": null,
      "outputs": [
        {
          "output_type": "stream",
          "name": "stdout",
          "text": [
            "0.006157857759693697 0.04829863089718358\n"
          ]
        },
        {
          "output_type": "execute_result",
          "data": {
            "text/plain": [
              "(0.07389429311632437, 0.1673113652998759)"
            ]
          },
          "metadata": {},
          "execution_count": 12
        }
      ]
    },
    {
      "cell_type": "markdown",
      "source": [
        "*   Se espera un retorno del 1.55, asumiendo una variación en  0,76 unidades, ya sea de manera positiva o negativa. \n",
        "*La relación de este activo riesgo/retorno es positiva(2,28). Significa que debemos asumir un riesgo alto para obtener un rendimiento positivo, sin embargo, no es en una proporcion tan grande."
      ],
      "metadata": {
        "id": "tNONhEwAJtC8"
      }
    },
    {
      "cell_type": "markdown",
      "source": [
        "d. **Calcule la matriz de correlaciones de Pearson y de Sperman**"
      ],
      "metadata": {
        "id": "7T4AAuylmCyZ"
      }
    },
    {
      "cell_type": "code",
      "source": [
        "#Matriz de correlación de Pearson\n",
        "retornos_corr1= retornos.corr(method=\"pearson\")\n",
        "retornos_corr1"
      ],
      "metadata": {
        "id": "DXUkt6rzmGjt",
        "colab": {
          "base_uri": "https://localhost:8080/",
          "height": 175
        },
        "outputId": "e173c4d6-47c4-4d17-ce4f-1dc2636a8c1d"
      },
      "execution_count": null,
      "outputs": [
        {
          "output_type": "execute_result",
          "data": {
            "text/plain": [
              "           GE       IBM       MCD         T\n",
              "GE   1.000000  0.363578  0.151318  0.346995\n",
              "IBM  0.363578  1.000000  0.322563  0.412459\n",
              "MCD  0.151318  0.322563  1.000000  0.338351\n",
              "T    0.346995  0.412459  0.338351  1.000000"
            ],
            "text/html": [
              "\n",
              "  <div id=\"df-bd829219-1ab6-4d45-940c-40f24a62a365\">\n",
              "    <div class=\"colab-df-container\">\n",
              "      <div>\n",
              "<style scoped>\n",
              "    .dataframe tbody tr th:only-of-type {\n",
              "        vertical-align: middle;\n",
              "    }\n",
              "\n",
              "    .dataframe tbody tr th {\n",
              "        vertical-align: top;\n",
              "    }\n",
              "\n",
              "    .dataframe thead th {\n",
              "        text-align: right;\n",
              "    }\n",
              "</style>\n",
              "<table border=\"1\" class=\"dataframe\">\n",
              "  <thead>\n",
              "    <tr style=\"text-align: right;\">\n",
              "      <th></th>\n",
              "      <th>GE</th>\n",
              "      <th>IBM</th>\n",
              "      <th>MCD</th>\n",
              "      <th>T</th>\n",
              "    </tr>\n",
              "  </thead>\n",
              "  <tbody>\n",
              "    <tr>\n",
              "      <th>GE</th>\n",
              "      <td>1.000000</td>\n",
              "      <td>0.363578</td>\n",
              "      <td>0.151318</td>\n",
              "      <td>0.346995</td>\n",
              "    </tr>\n",
              "    <tr>\n",
              "      <th>IBM</th>\n",
              "      <td>0.363578</td>\n",
              "      <td>1.000000</td>\n",
              "      <td>0.322563</td>\n",
              "      <td>0.412459</td>\n",
              "    </tr>\n",
              "    <tr>\n",
              "      <th>MCD</th>\n",
              "      <td>0.151318</td>\n",
              "      <td>0.322563</td>\n",
              "      <td>1.000000</td>\n",
              "      <td>0.338351</td>\n",
              "    </tr>\n",
              "    <tr>\n",
              "      <th>T</th>\n",
              "      <td>0.346995</td>\n",
              "      <td>0.412459</td>\n",
              "      <td>0.338351</td>\n",
              "      <td>1.000000</td>\n",
              "    </tr>\n",
              "  </tbody>\n",
              "</table>\n",
              "</div>\n",
              "      <button class=\"colab-df-convert\" onclick=\"convertToInteractive('df-bd829219-1ab6-4d45-940c-40f24a62a365')\"\n",
              "              title=\"Convert this dataframe to an interactive table.\"\n",
              "              style=\"display:none;\">\n",
              "        \n",
              "  <svg xmlns=\"http://www.w3.org/2000/svg\" height=\"24px\"viewBox=\"0 0 24 24\"\n",
              "       width=\"24px\">\n",
              "    <path d=\"M0 0h24v24H0V0z\" fill=\"none\"/>\n",
              "    <path d=\"M18.56 5.44l.94 2.06.94-2.06 2.06-.94-2.06-.94-.94-2.06-.94 2.06-2.06.94zm-11 1L8.5 8.5l.94-2.06 2.06-.94-2.06-.94L8.5 2.5l-.94 2.06-2.06.94zm10 10l.94 2.06.94-2.06 2.06-.94-2.06-.94-.94-2.06-.94 2.06-2.06.94z\"/><path d=\"M17.41 7.96l-1.37-1.37c-.4-.4-.92-.59-1.43-.59-.52 0-1.04.2-1.43.59L10.3 9.45l-7.72 7.72c-.78.78-.78 2.05 0 2.83L4 21.41c.39.39.9.59 1.41.59.51 0 1.02-.2 1.41-.59l7.78-7.78 2.81-2.81c.8-.78.8-2.07 0-2.86zM5.41 20L4 18.59l7.72-7.72 1.47 1.35L5.41 20z\"/>\n",
              "  </svg>\n",
              "      </button>\n",
              "      \n",
              "  <style>\n",
              "    .colab-df-container {\n",
              "      display:flex;\n",
              "      flex-wrap:wrap;\n",
              "      gap: 12px;\n",
              "    }\n",
              "\n",
              "    .colab-df-convert {\n",
              "      background-color: #E8F0FE;\n",
              "      border: none;\n",
              "      border-radius: 50%;\n",
              "      cursor: pointer;\n",
              "      display: none;\n",
              "      fill: #1967D2;\n",
              "      height: 32px;\n",
              "      padding: 0 0 0 0;\n",
              "      width: 32px;\n",
              "    }\n",
              "\n",
              "    .colab-df-convert:hover {\n",
              "      background-color: #E2EBFA;\n",
              "      box-shadow: 0px 1px 2px rgba(60, 64, 67, 0.3), 0px 1px 3px 1px rgba(60, 64, 67, 0.15);\n",
              "      fill: #174EA6;\n",
              "    }\n",
              "\n",
              "    [theme=dark] .colab-df-convert {\n",
              "      background-color: #3B4455;\n",
              "      fill: #D2E3FC;\n",
              "    }\n",
              "\n",
              "    [theme=dark] .colab-df-convert:hover {\n",
              "      background-color: #434B5C;\n",
              "      box-shadow: 0px 1px 3px 1px rgba(0, 0, 0, 0.15);\n",
              "      filter: drop-shadow(0px 1px 2px rgba(0, 0, 0, 0.3));\n",
              "      fill: #FFFFFF;\n",
              "    }\n",
              "  </style>\n",
              "\n",
              "      <script>\n",
              "        const buttonEl =\n",
              "          document.querySelector('#df-bd829219-1ab6-4d45-940c-40f24a62a365 button.colab-df-convert');\n",
              "        buttonEl.style.display =\n",
              "          google.colab.kernel.accessAllowed ? 'block' : 'none';\n",
              "\n",
              "        async function convertToInteractive(key) {\n",
              "          const element = document.querySelector('#df-bd829219-1ab6-4d45-940c-40f24a62a365');\n",
              "          const dataTable =\n",
              "            await google.colab.kernel.invokeFunction('convertToInteractive',\n",
              "                                                     [key], {});\n",
              "          if (!dataTable) return;\n",
              "\n",
              "          const docLinkHtml = 'Like what you see? Visit the ' +\n",
              "            '<a target=\"_blank\" href=https://colab.research.google.com/notebooks/data_table.ipynb>data table notebook</a>'\n",
              "            + ' to learn more about interactive tables.';\n",
              "          element.innerHTML = '';\n",
              "          dataTable['output_type'] = 'display_data';\n",
              "          await google.colab.output.renderOutput(dataTable, element);\n",
              "          const docLink = document.createElement('div');\n",
              "          docLink.innerHTML = docLinkHtml;\n",
              "          element.appendChild(docLink);\n",
              "        }\n",
              "      </script>\n",
              "    </div>\n",
              "  </div>\n",
              "  "
            ]
          },
          "metadata": {},
          "execution_count": 13
        }
      ]
    },
    {
      "cell_type": "markdown",
      "source": [
        "\n",
        "1.  La relacion activo GE/IBM presenta una relacion positiva ¿, pero muy debil. No existe mayor asociación. \n",
        "2.   La relacion activo GE/MCD presenta una relacion casi nula.\n",
        "\n"
      ],
      "metadata": {
        "id": "PWKjbaWOoxtw"
      }
    },
    {
      "cell_type": "code",
      "source": [
        "#Matriz de correlación de Sperman\n",
        "retornos_corr= retornos.corr(method=\"spearman\")\n",
        "retornos_corr"
      ],
      "metadata": {
        "colab": {
          "base_uri": "https://localhost:8080/",
          "height": 175
        },
        "id": "1toV_hUi7ltm",
        "outputId": "010fb7ce-cd9d-4e83-8f75-cd642119ded6"
      },
      "execution_count": null,
      "outputs": [
        {
          "output_type": "execute_result",
          "data": {
            "text/plain": [
              "           GE       IBM       MCD         T\n",
              "GE   1.000000  0.343396  0.091615  0.312855\n",
              "IBM  0.343396  1.000000  0.260223  0.358745\n",
              "MCD  0.091615  0.260223  1.000000  0.299497\n",
              "T    0.312855  0.358745  0.299497  1.000000"
            ],
            "text/html": [
              "\n",
              "  <div id=\"df-a9aaf947-a5c0-4b38-a437-16b82bc92a93\">\n",
              "    <div class=\"colab-df-container\">\n",
              "      <div>\n",
              "<style scoped>\n",
              "    .dataframe tbody tr th:only-of-type {\n",
              "        vertical-align: middle;\n",
              "    }\n",
              "\n",
              "    .dataframe tbody tr th {\n",
              "        vertical-align: top;\n",
              "    }\n",
              "\n",
              "    .dataframe thead th {\n",
              "        text-align: right;\n",
              "    }\n",
              "</style>\n",
              "<table border=\"1\" class=\"dataframe\">\n",
              "  <thead>\n",
              "    <tr style=\"text-align: right;\">\n",
              "      <th></th>\n",
              "      <th>GE</th>\n",
              "      <th>IBM</th>\n",
              "      <th>MCD</th>\n",
              "      <th>T</th>\n",
              "    </tr>\n",
              "  </thead>\n",
              "  <tbody>\n",
              "    <tr>\n",
              "      <th>GE</th>\n",
              "      <td>1.000000</td>\n",
              "      <td>0.343396</td>\n",
              "      <td>0.091615</td>\n",
              "      <td>0.312855</td>\n",
              "    </tr>\n",
              "    <tr>\n",
              "      <th>IBM</th>\n",
              "      <td>0.343396</td>\n",
              "      <td>1.000000</td>\n",
              "      <td>0.260223</td>\n",
              "      <td>0.358745</td>\n",
              "    </tr>\n",
              "    <tr>\n",
              "      <th>MCD</th>\n",
              "      <td>0.091615</td>\n",
              "      <td>0.260223</td>\n",
              "      <td>1.000000</td>\n",
              "      <td>0.299497</td>\n",
              "    </tr>\n",
              "    <tr>\n",
              "      <th>T</th>\n",
              "      <td>0.312855</td>\n",
              "      <td>0.358745</td>\n",
              "      <td>0.299497</td>\n",
              "      <td>1.000000</td>\n",
              "    </tr>\n",
              "  </tbody>\n",
              "</table>\n",
              "</div>\n",
              "      <button class=\"colab-df-convert\" onclick=\"convertToInteractive('df-a9aaf947-a5c0-4b38-a437-16b82bc92a93')\"\n",
              "              title=\"Convert this dataframe to an interactive table.\"\n",
              "              style=\"display:none;\">\n",
              "        \n",
              "  <svg xmlns=\"http://www.w3.org/2000/svg\" height=\"24px\"viewBox=\"0 0 24 24\"\n",
              "       width=\"24px\">\n",
              "    <path d=\"M0 0h24v24H0V0z\" fill=\"none\"/>\n",
              "    <path d=\"M18.56 5.44l.94 2.06.94-2.06 2.06-.94-2.06-.94-.94-2.06-.94 2.06-2.06.94zm-11 1L8.5 8.5l.94-2.06 2.06-.94-2.06-.94L8.5 2.5l-.94 2.06-2.06.94zm10 10l.94 2.06.94-2.06 2.06-.94-2.06-.94-.94-2.06-.94 2.06-2.06.94z\"/><path d=\"M17.41 7.96l-1.37-1.37c-.4-.4-.92-.59-1.43-.59-.52 0-1.04.2-1.43.59L10.3 9.45l-7.72 7.72c-.78.78-.78 2.05 0 2.83L4 21.41c.39.39.9.59 1.41.59.51 0 1.02-.2 1.41-.59l7.78-7.78 2.81-2.81c.8-.78.8-2.07 0-2.86zM5.41 20L4 18.59l7.72-7.72 1.47 1.35L5.41 20z\"/>\n",
              "  </svg>\n",
              "      </button>\n",
              "      \n",
              "  <style>\n",
              "    .colab-df-container {\n",
              "      display:flex;\n",
              "      flex-wrap:wrap;\n",
              "      gap: 12px;\n",
              "    }\n",
              "\n",
              "    .colab-df-convert {\n",
              "      background-color: #E8F0FE;\n",
              "      border: none;\n",
              "      border-radius: 50%;\n",
              "      cursor: pointer;\n",
              "      display: none;\n",
              "      fill: #1967D2;\n",
              "      height: 32px;\n",
              "      padding: 0 0 0 0;\n",
              "      width: 32px;\n",
              "    }\n",
              "\n",
              "    .colab-df-convert:hover {\n",
              "      background-color: #E2EBFA;\n",
              "      box-shadow: 0px 1px 2px rgba(60, 64, 67, 0.3), 0px 1px 3px 1px rgba(60, 64, 67, 0.15);\n",
              "      fill: #174EA6;\n",
              "    }\n",
              "\n",
              "    [theme=dark] .colab-df-convert {\n",
              "      background-color: #3B4455;\n",
              "      fill: #D2E3FC;\n",
              "    }\n",
              "\n",
              "    [theme=dark] .colab-df-convert:hover {\n",
              "      background-color: #434B5C;\n",
              "      box-shadow: 0px 1px 3px 1px rgba(0, 0, 0, 0.15);\n",
              "      filter: drop-shadow(0px 1px 2px rgba(0, 0, 0, 0.3));\n",
              "      fill: #FFFFFF;\n",
              "    }\n",
              "  </style>\n",
              "\n",
              "      <script>\n",
              "        const buttonEl =\n",
              "          document.querySelector('#df-a9aaf947-a5c0-4b38-a437-16b82bc92a93 button.colab-df-convert');\n",
              "        buttonEl.style.display =\n",
              "          google.colab.kernel.accessAllowed ? 'block' : 'none';\n",
              "\n",
              "        async function convertToInteractive(key) {\n",
              "          const element = document.querySelector('#df-a9aaf947-a5c0-4b38-a437-16b82bc92a93');\n",
              "          const dataTable =\n",
              "            await google.colab.kernel.invokeFunction('convertToInteractive',\n",
              "                                                     [key], {});\n",
              "          if (!dataTable) return;\n",
              "\n",
              "          const docLinkHtml = 'Like what you see? Visit the ' +\n",
              "            '<a target=\"_blank\" href=https://colab.research.google.com/notebooks/data_table.ipynb>data table notebook</a>'\n",
              "            + ' to learn more about interactive tables.';\n",
              "          element.innerHTML = '';\n",
              "          dataTable['output_type'] = 'display_data';\n",
              "          await google.colab.output.renderOutput(dataTable, element);\n",
              "          const docLink = document.createElement('div');\n",
              "          docLink.innerHTML = docLinkHtml;\n",
              "          element.appendChild(docLink);\n",
              "        }\n",
              "      </script>\n",
              "    </div>\n",
              "  </div>\n",
              "  "
            ]
          },
          "metadata": {},
          "execution_count": 14
        }
      ]
    },
    {
      "cell_type": "markdown",
      "source": [
        "-Este método se utiliza cuando los datos no satisfacen la condición de normalidad, para aplicar la correlación de pearson.En   nuestro caso es más apropiado la correlacion de spearman, debido a que nuestros datos no siguen una distribución conocida.\n",
        "-Esto explica el porque los datos de correlacion con respecto a la de pearson son inferiores.\n",
        "\n",
        "  1. GE-IBM\n",
        "*   Entre estos activos existe una relacion lineal positiva mediana. Es decir los retornos de ambos activos tienden a incrementarse, sin embargo, al ser de mediana asociación el efecto no es tan grande.\n",
        "\n",
        "2. GE-MCD\n",
        "*   Entre estos activos existe una relacion lineal minima. Cuando un activo sube , el optro tambien pero en una proporcion muy pequeña. \n",
        "\n",
        "3. GE-T\n",
        "*   Entre estos activos existe una relacion lineal positiva mediana. \n",
        "\n"
      ],
      "metadata": {
        "id": "qEAV0LyFMHJK"
      }
    },
    {
      "cell_type": "markdown",
      "source": [
        "e. **Grafique el histograma de frecuencia de los retornos para dos de las cuatro acciones**"
      ],
      "metadata": {
        "id": "AGvxkAP1o1OH"
      }
    },
    {
      "cell_type": "code",
      "source": [
        "#Histograma de freuencia para GE\n",
        "retornos= np.log(precios/precios.shift()).dropna()\n",
        "sbn.histplot(data=retornos, x=\"GE\", kde=True, bins=18);"
      ],
      "metadata": {
        "colab": {
          "base_uri": "https://localhost:8080/",
          "height": 280
        },
        "id": "NudM1erVNFMb",
        "outputId": "ff8550ad-3387-4784-b908-1d8cfb880165"
      },
      "execution_count": null,
      "outputs": [
        {
          "output_type": "display_data",
          "data": {
            "text/plain": [
              "<Figure size 432x288 with 1 Axes>"
            ],
            "image/png": "[encoded data removed]"
          },
          "metadata": {
            "needs_background": "light"
          }
        }
      ]
    },
    {
      "cell_type": "markdown",
      "source": [
        "\n",
        "\n",
        "* En este histograma de retornos de la acción \"GE\", el pico de los datos ocurre cerca a un retorno de 0,0.\n",
        "*   La dispersion de los datos es de casi -0,2 hasta 0,3.\n",
        "*   El histograma presenta datos asimetricos hacia la izquierda. Esto nos indica los datos de tiempo de falla. Entre mas asimetricos a la izquierda son, significa que si un retorno da negativo más rapido ,en los siguientes periodos, los retornos serán negativos.\n",
        "*   Se evidencia un dato atípico de 0,3. Es decir no fue comun obtenr este retorno. Alrededor de 3 veces se tuvo este retorno.\n",
        "* los retornos que menos veces se consiguieron fue 0,2 y -0,2.\n",
        "*La mayoria de retornos se movio en los rangos:(0,0-(-0,1)) y (0,0- 0,1).\n",
        "*Se puede evidenciar una gran concentracion de datos respecto a la media. Es decir los retornos se acercaron a 0.0, sin embargo, hubo un par de datos que se alejaron considerablemente.\n",
        "\n"
      ],
      "metadata": {
        "id": "1Tcmp6AkOtkP"
      }
    },
    {
      "cell_type": "code",
      "source": [
        "#Histograma de frecuencia para IBM\n",
        "retornos= np.log(precios/precios.shift()).dropna()\n",
        "sbn.histplot(data=retornos, x=\"IBM\", kde=True, bins=18);"
      ],
      "metadata": {
        "colab": {
          "base_uri": "https://localhost:8080/",
          "height": 279
        },
        "id": "jUcEEg_8N7zT",
        "outputId": "2bc75225-e0e7-4f3f-e23d-271bde280fd7"
      },
      "execution_count": null,
      "outputs": [
        {
          "output_type": "display_data",
          "data": {
            "text/plain": [
              "<Figure size 432x288 with 1 Axes>"
            ],
            "image/png": "[encoded data removed]"
          },
          "metadata": {
            "needs_background": "light"
          }
        }
      ]
    },
    {
      "cell_type": "markdown",
      "source": [
        "\n",
        "\n",
        "* En este histograma de retornos de la acción \"IBM\", el pico de los datos ocurre cerca a un retorno de 0,0 con tendencia positiva.\n",
        "*   La dispersion de los datos es de casi -0,2 hasta 0,3.\n",
        "*   El histograma presenta datos asimetricos hacia la izquierda. Esto nos indica los datos de tiempo de falla. Entre mas asimetricos a la izquierda son, significa que si un retorno da negativo más rapido ,en los siguientes periodos, los retornos serán negativos.\n",
        "*   Se evidencia un dato atípico de -0,1. Es decir no fue comun obtener este retorno. Alrededor de 2 veces se tuvo este retorno.\n",
        "* El retorno que menos veces se consiguio fue enel rango -0,2 y -0,1.\n",
        "*La mayoria de retornos se movio en el rango(0,0- 0,1).\n",
        "*Hubo aproximadamente 20 retonos que tendieron a -0,1.\n"
      ],
      "metadata": {
        "id": "t7XGVUF5VL_C"
      }
    },
    {
      "cell_type": "markdown",
      "source": [
        "#  **Implemente las pruebas de normalidad de Kolmogorov-Smirnov para todos los activos. Consolide los resultados en un Data Frame para todos**"
      ],
      "metadata": {
        "id": "XSSA1jnEo9kv"
      }
    },
    {
      "cell_type": "code",
      "source": [
        "\n",
        "sk=stats.kstest(retornos[\"MCD\"],'norm'),stats.kstest(retornos[\"GE\"],'norm'),stats.kstest(retornos[\"T\"],'norm'),stats.kstest(retornos[\"IBM\"],'norm')\n",
        "sk"
      ],
      "metadata": {
        "colab": {
          "base_uri": "https://localhost:8080/"
        },
        "id": "8GEOI4uHs0BR",
        "outputId": "b77dc585-f350-4a31-e649-b225f5ea3955"
      },
      "execution_count": 120,
      "outputs": [
        {
          "output_type": "execute_result",
          "data": {
            "text/plain": [
              "(KstestResult(statistic=0.45432973805127225, pvalue=1.7364332530678077e-27),\n",
              " KstestResult(statistic=0.4159825267456674, pvalue=6.374946614934755e-23),\n",
              " KstestResult(statistic=0.4606995274723966, pvalue=2.713392423024787e-28),\n",
              " KstestResult(statistic=0.43726569561758094, pvalue=2.1441549482767187e-25))"
            ]
          },
          "metadata": {},
          "execution_count": 120
        }
      ]
    },
    {
      "cell_type": "code",
      "source": [
        "sk=pd.DataFrame({\n",
        "    \"Prueba de normalidad\":[\"Kolmogorov-Smirnov\"],\n",
        "    \"MCD\":[stats.kstest(retornos[\"MCD\"],'norm')],\n",
        "    \"GE\":[stats.kstest(retornos[\"GE\"],'norm')],\n",
        "    \"T\":[stats.kstest(retornos[\"T\"],'norm')],\n",
        "    \"IBM\":[stats.kstest(retornos[\"IBM\"],'norm')]\n",
        "})\n",
        "sk"
      ],
      "metadata": {
        "colab": {
          "base_uri": "https://localhost:8080/",
          "height": 159
        },
        "id": "X0CeqC8Wt4pT",
        "outputId": "02e9a521-0b42-47ad-8d39-0babb7a00ce7"
      },
      "execution_count": 121,
      "outputs": [
        {
          "output_type": "execute_result",
          "data": {
            "text/plain": [
              "  Prueba de normalidad                                            MCD  \\\n",
              "0   Kolmogorov-Smirnov  (0.45432973805127225, 1.7364332530678077e-27)   \n",
              "\n",
              "                                            GE  \\\n",
              "0  (0.4159825267456674, 6.374946614934755e-23)   \n",
              "\n",
              "                                             T  \\\n",
              "0  (0.4606995274723966, 2.713392423024787e-28)   \n",
              "\n",
              "                                             IBM  \n",
              "0  (0.43726569561758094, 2.1441549482767187e-25)  "
            ],
            "text/html": [
              "\n",
              "  <div id=\"df-67f8b758-f578-40cc-95dd-f5463d5b18b5\">\n",
              "    <div class=\"colab-df-container\">\n",
              "      <div>\n",
              "<style scoped>\n",
              "    .dataframe tbody tr th:only-of-type {\n",
              "        vertical-align: middle;\n",
              "    }\n",
              "\n",
              "    .dataframe tbody tr th {\n",
              "        vertical-align: top;\n",
              "    }\n",
              "\n",
              "    .dataframe thead th {\n",
              "        text-align: right;\n",
              "    }\n",
              "</style>\n",
              "<table border=\"1\" class=\"dataframe\">\n",
              "  <thead>\n",
              "    <tr style=\"text-align: right;\">\n",
              "      <th></th>\n",
              "      <th>Prueba de normalidad</th>\n",
              "      <th>MCD</th>\n",
              "      <th>GE</th>\n",
              "      <th>T</th>\n",
              "      <th>IBM</th>\n",
              "    </tr>\n",
              "  </thead>\n",
              "  <tbody>\n",
              "    <tr>\n",
              "      <th>0</th>\n",
              "      <td>Kolmogorov-Smirnov</td>\n",
              "      <td>(0.45432973805127225, 1.7364332530678077e-27)</td>\n",
              "      <td>(0.4159825267456674, 6.374946614934755e-23)</td>\n",
              "      <td>(0.4606995274723966, 2.713392423024787e-28)</td>\n",
              "      <td>(0.43726569561758094, 2.1441549482767187e-25)</td>\n",
              "    </tr>\n",
              "  </tbody>\n",
              "</table>\n",
              "</div>\n",
              "      <button class=\"colab-df-convert\" onclick=\"convertToInteractive('df-67f8b758-f578-40cc-95dd-f5463d5b18b5')\"\n",
              "              title=\"Convert this dataframe to an interactive table.\"\n",
              "              style=\"display:none;\">\n",
              "        \n",
              "  <svg xmlns=\"http://www.w3.org/2000/svg\" height=\"24px\"viewBox=\"0 0 24 24\"\n",
              "       width=\"24px\">\n",
              "    <path d=\"M0 0h24v24H0V0z\" fill=\"none\"/>\n",
              "    <path d=\"M18.56 5.44l.94 2.06.94-2.06 2.06-.94-2.06-.94-.94-2.06-.94 2.06-2.06.94zm-11 1L8.5 8.5l.94-2.06 2.06-.94-2.06-.94L8.5 2.5l-.94 2.06-2.06.94zm10 10l.94 2.06.94-2.06 2.06-.94-2.06-.94-.94-2.06-.94 2.06-2.06.94z\"/><path d=\"M17.41 7.96l-1.37-1.37c-.4-.4-.92-.59-1.43-.59-.52 0-1.04.2-1.43.59L10.3 9.45l-7.72 7.72c-.78.78-.78 2.05 0 2.83L4 21.41c.39.39.9.59 1.41.59.51 0 1.02-.2 1.41-.59l7.78-7.78 2.81-2.81c.8-.78.8-2.07 0-2.86zM5.41 20L4 18.59l7.72-7.72 1.47 1.35L5.41 20z\"/>\n",
              "  </svg>\n",
              "      </button>\n",
              "      \n",
              "  <style>\n",
              "    .colab-df-container {\n",
              "      display:flex;\n",
              "      flex-wrap:wrap;\n",
              "      gap: 12px;\n",
              "    }\n",
              "\n",
              "    .colab-df-convert {\n",
              "      background-color: #E8F0FE;\n",
              "      border: none;\n",
              "      border-radius: 50%;\n",
              "      cursor: pointer;\n",
              "      display: none;\n",
              "      fill: #1967D2;\n",
              "      height: 32px;\n",
              "      padding: 0 0 0 0;\n",
              "      width: 32px;\n",
              "    }\n",
              "\n",
              "    .colab-df-convert:hover {\n",
              "      background-color: #E2EBFA;\n",
              "      box-shadow: 0px 1px 2px rgba(60, 64, 67, 0.3), 0px 1px 3px 1px rgba(60, 64, 67, 0.15);\n",
              "      fill: #174EA6;\n",
              "    }\n",
              "\n",
              "    [theme=dark] .colab-df-convert {\n",
              "      background-color: #3B4455;\n",
              "      fill: #D2E3FC;\n",
              "    }\n",
              "\n",
              "    [theme=dark] .colab-df-convert:hover {\n",
              "      background-color: #434B5C;\n",
              "      box-shadow: 0px 1px 3px 1px rgba(0, 0, 0, 0.15);\n",
              "      filter: drop-shadow(0px 1px 2px rgba(0, 0, 0, 0.3));\n",
              "      fill: #FFFFFF;\n",
              "    }\n",
              "  </style>\n",
              "\n",
              "      <script>\n",
              "        const buttonEl =\n",
              "          document.querySelector('#df-67f8b758-f578-40cc-95dd-f5463d5b18b5 button.colab-df-convert');\n",
              "        buttonEl.style.display =\n",
              "          google.colab.kernel.accessAllowed ? 'block' : 'none';\n",
              "\n",
              "        async function convertToInteractive(key) {\n",
              "          const element = document.querySelector('#df-67f8b758-f578-40cc-95dd-f5463d5b18b5');\n",
              "          const dataTable =\n",
              "            await google.colab.kernel.invokeFunction('convertToInteractive',\n",
              "                                                     [key], {});\n",
              "          if (!dataTable) return;\n",
              "\n",
              "          const docLinkHtml = 'Like what you see? Visit the ' +\n",
              "            '<a target=\"_blank\" href=https://colab.research.google.com/notebooks/data_table.ipynb>data table notebook</a>'\n",
              "            + ' to learn more about interactive tables.';\n",
              "          element.innerHTML = '';\n",
              "          dataTable['output_type'] = 'display_data';\n",
              "          await google.colab.output.renderOutput(dataTable, element);\n",
              "          const docLink = document.createElement('div');\n",
              "          docLink.innerHTML = docLinkHtml;\n",
              "          element.appendChild(docLink);\n",
              "        }\n",
              "      </script>\n",
              "    </div>\n",
              "  </div>\n",
              "  "
            ]
          },
          "metadata": {},
          "execution_count": 121
        }
      ]
    },
    {
      "cell_type": "markdown",
      "source": [
        "Después de realizar las respectivas pruebas, se puede evidenciar que ninguno de los activos se distribuye normalmente, esto se debe a que todos los valores p son menores a la significanhcia (0,05)."
      ],
      "metadata": {
        "id": "0g7DU1n7t6pS"
      }
    },
    {
      "cell_type": "markdown",
      "source": [
        "2. \n",
        "a. Calcule la volatilidad mensual y anualizada de las series de retornos usando las medidas\n",
        "de: i) desviación estándar, ii) Parkinson, iii) Garman-Klass y, iv) volatilidad ponderada\n",
        "exponencial (EWMA) con una lambda de 0.94."
      ],
      "metadata": {
        "id": "QJ-kkW5is7WI"
      }
    },
    {
      "cell_type": "code",
      "source": [
        "# Matríz de precios completa\n",
        "activos = [\"MCD\", \"GE\",\"IBM\",\"T\"]\n",
        "precios2 = yf.download(activos,start=\"2010-01-01\",end=\"2021-12-31\",interval=\"1Mo\").dropna()\n",
        "\n",
        "precios2"
      ],
      "metadata": {
        "colab": {
          "base_uri": "https://localhost:8080/",
          "height": 741
        },
        "id": "xE5b3a4bdA1T",
        "outputId": "2de0ae62-93e4-4a5b-c3da-8ca92c6c0d51"
      },
      "execution_count": 87,
      "outputs": [
        {
          "output_type": "stream",
          "name": "stdout",
          "text": [
            "[*********************100%***********************]  4 of 4 completed\n"
          ]
        },
        {
          "output_type": "execute_result",
          "data": {
            "text/plain": [
              "             Adj Close                                          Close  \\\n",
              "                    GE         IBM         MCD          T          GE   \n",
              "Date                                                                    \n",
              "2010-01-01   91.124496   76.034492   43.710953   7.295423  123.692307   \n",
              "2010-02-01   91.011162   78.997833   44.705173   7.279537  123.538460   \n",
              "2010-03-01  103.782227   80.031349   47.111691   7.581748  140.000000   \n",
              "2010-04-01  107.545731   80.499374   49.844318   7.646300  145.076920   \n",
              "2010-05-01   93.232948   78.165504   47.217594   7.283844  125.769234   \n",
              "...                ...         ...         ...        ...         ...   \n",
              "2021-08-01  105.016113  126.196457  232.276596  19.121510  105.410004   \n",
              "2021-09-01  102.645004  126.366852  237.139908  18.835596  103.029999   \n",
              "2021-10-01  104.559380  113.787468  241.506790  17.615221  104.870003   \n",
              "2021-11-01   94.708633  111.410393  240.572433  16.332380   94.989998   \n",
              "2021-12-01   94.190170  128.862701  265.117676  17.598621   94.470001   \n",
              "\n",
              "                                                     High              ...  \\\n",
              "                   IBM         MCD          T          GE         IBM  ...   \n",
              "Date                                                                   ...   \n",
              "2010-01-01  117.007645   62.430000  19.154079  130.153839  128.346085  ...   \n",
              "2010-02-01  121.567879   63.849998  18.738670  131.000000  122.629066  ...   \n",
              "2010-03-01  122.609940   66.720001  19.516617  145.692307  124.980881  ...   \n",
              "2010-04-01  123.326958   70.589996  19.682779  151.538467  126.462715  ...   \n",
              "2010-05-01  119.751434   66.870003  18.353474  148.769226  127.246651  ...   \n",
              "...                ...         ...        ...         ...         ...  ...   \n",
              "2021-08-01  134.168259  237.460007  20.709970  107.230003  138.336517  ...   \n",
              "2021-09-01  132.820267  241.110001  20.400303  107.360001  134.388138  ...   \n",
              "2021-10-01  119.598473  245.550003  19.078550  110.970001  139.579346  ...   \n",
              "2021-11-01  117.099998  244.600006  17.243202  116.169998  124.779999  ...   \n",
              "2021-12-01  133.660004  268.070007  18.580059   98.940002  134.990005  ...   \n",
              "\n",
              "                   Low                   Open                          \\\n",
              "                   MCD          T          GE         IBM         MCD   \n",
              "Date                                                                    \n",
              "2010-01-01   61.060001  18.927492  117.076920  125.411087   62.630001   \n",
              "2010-02-01   62.540001  18.587612  124.615387  117.810707   62.830002   \n",
              "2010-03-01   63.250000  18.663141  123.846153  121.892921   63.980000   \n",
              "2010-04-01   67.059998  19.244713  140.538467  123.279160   67.059998   \n",
              "2010-05-01   65.550003  17.960726  145.923080  123.699806   70.879997   \n",
              "...                ...        ...         ...         ...         ...   \n",
              "2021-08-01  233.050003  20.302114  104.480003  135.229446  244.240005   \n",
              "2021-09-01  235.949997  20.347431  105.360001  133.824097  237.880005   \n",
              "2021-10-01  236.139999  18.889729  104.180000  134.799240  243.070007   \n",
              "2021-11-01  243.949997  17.031721  105.760002  119.550667  245.800003   \n",
              "2021-12-01  244.110001  16.631420   96.550003  118.250000  245.759995   \n",
              "\n",
              "                            Volume                                          \n",
              "                    T           GE          IBM          MCD             T  \n",
              "Date                                                                        \n",
              "2010-01-01  21.457705  208407550.0  163291687.0  158366700.0  9.665184e+08  \n",
              "2010-02-01  19.388218  183090323.0  118418914.0  150643900.0  7.664459e+08  \n",
              "2010-03-01  18.814199  270393890.0  146437175.0  153461200.0  7.816918e+08  \n",
              "2010-04-01  19.675226  210661724.0  153162014.0  135971400.0  8.485327e+08  \n",
              "2010-05-01  19.818731  267881367.0  197112633.0  185467000.0  9.881233e+08  \n",
              "...               ...          ...          ...          ...           ...  \n",
              "2021-08-01  21.329306  202482000.0   72891244.0   45210000.0  7.898068e+08  \n",
              "2021-09-01  20.725077  211575700.0   80160627.0   55922700.0  9.844140e+08  \n",
              "2021-10-01  20.498489  137165100.0  150725359.0   57991500.0  1.339836e+09  \n",
              "2021-11-01  19.229607  167035200.0  120104799.0   51361500.0  1.278173e+09  \n",
              "2021-12-01  17.371601  126405800.0  113968900.0   58776500.0  1.834795e+09  \n",
              "\n",
              "[144 rows x 24 columns]"
            ],
            "text/html": [
              "\n",
              "  <div id=\"df-4ef26f9b-c058-4f33-9799-2bd633a2d38d\">\n",
              "    <div class=\"colab-df-container\">\n",
              "      <div>\n",
              "<style scoped>\n",
              "    .dataframe tbody tr th:only-of-type {\n",
              "        vertical-align: middle;\n",
              "    }\n",
              "\n",
              "    .dataframe tbody tr th {\n",
              "        vertical-align: top;\n",
              "    }\n",
              "\n",
              "    .dataframe thead tr th {\n",
              "        text-align: left;\n",
              "    }\n",
              "\n",
              "    .dataframe thead tr:last-of-type th {\n",
              "        text-align: right;\n",
              "    }\n",
              "</style>\n",
              "<table border=\"1\" class=\"dataframe\">\n",
              "  <thead>\n",
              "    <tr>\n",
              "      <th></th>\n",
              "      <th colspan=\"4\" halign=\"left\">Adj Close</th>\n",
              "      <th colspan=\"4\" halign=\"left\">Close</th>\n",
              "      <th colspan=\"2\" halign=\"left\">High</th>\n",
              "      <th>...</th>\n",
              "      <th colspan=\"2\" halign=\"left\">Low</th>\n",
              "      <th colspan=\"4\" halign=\"left\">Open</th>\n",
              "      <th colspan=\"4\" halign=\"left\">Volume</th>\n",
              "    </tr>\n",
              "    <tr>\n",
              "      <th></th>\n",
              "      <th>GE</th>\n",
              "      <th>IBM</th>\n",
              "      <th>MCD</th>\n",
              "      <th>T</th>\n",
              "      <th>GE</th>\n",
              "      <th>IBM</th>\n",
              "      <th>MCD</th>\n",
              "      <th>T</th>\n",
              "      <th>GE</th>\n",
              "      <th>IBM</th>\n",
              "      <th>...</th>\n",
              "      <th>MCD</th>\n",
              "      <th>T</th>\n",
              "      <th>GE</th>\n",
              "      <th>IBM</th>\n",
              "      <th>MCD</th>\n",
              "      <th>T</th>\n",
              "      <th>GE</th>\n",
              "      <th>IBM</th>\n",
              "      <th>MCD</th>\n",
              "      <th>T</th>\n",
              "    </tr>\n",
              "    <tr>\n",
              "      <th>Date</th>\n",
              "      <th></th>\n",
              "      <th></th>\n",
              "      <th></th>\n",
              "      <th></th>\n",
              "      <th></th>\n",
              "      <th></th>\n",
              "      <th></th>\n",
              "      <th></th>\n",
              "      <th></th>\n",
              "      <th></th>\n",
              "      <th></th>\n",
              "      <th></th>\n",
              "      <th></th>\n",
              "      <th></th>\n",
              "      <th></th>\n",
              "      <th></th>\n",
              "      <th></th>\n",
              "      <th></th>\n",
              "      <th></th>\n",
              "      <th></th>\n",
              "      <th></th>\n",
              "    </tr>\n",
              "  </thead>\n",
              "  <tbody>\n",
              "    <tr>\n",
              "      <th>2010-01-01</th>\n",
              "      <td>91.124496</td>\n",
              "      <td>76.034492</td>\n",
              "      <td>43.710953</td>\n",
              "      <td>7.295423</td>\n",
              "      <td>123.692307</td>\n",
              "      <td>117.007645</td>\n",
              "      <td>62.430000</td>\n",
              "      <td>19.154079</td>\n",
              "      <td>130.153839</td>\n",
              "      <td>128.346085</td>\n",
              "      <td>...</td>\n",
              "      <td>61.060001</td>\n",
              "      <td>18.927492</td>\n",
              "      <td>117.076920</td>\n",
              "      <td>125.411087</td>\n",
              "      <td>62.630001</td>\n",
              "      <td>21.457705</td>\n",
              "      <td>208407550.0</td>\n",
              "      <td>163291687.0</td>\n",
              "      <td>158366700.0</td>\n",
              "      <td>9.665184e+08</td>\n",
              "    </tr>\n",
              "    <tr>\n",
              "      <th>2010-02-01</th>\n",
              "      <td>91.011162</td>\n",
              "      <td>78.997833</td>\n",
              "      <td>44.705173</td>\n",
              "      <td>7.279537</td>\n",
              "      <td>123.538460</td>\n",
              "      <td>121.567879</td>\n",
              "      <td>63.849998</td>\n",
              "      <td>18.738670</td>\n",
              "      <td>131.000000</td>\n",
              "      <td>122.629066</td>\n",
              "      <td>...</td>\n",
              "      <td>62.540001</td>\n",
              "      <td>18.587612</td>\n",
              "      <td>124.615387</td>\n",
              "      <td>117.810707</td>\n",
              "      <td>62.830002</td>\n",
              "      <td>19.388218</td>\n",
              "      <td>183090323.0</td>\n",
              "      <td>118418914.0</td>\n",
              "      <td>150643900.0</td>\n",
              "      <td>7.664459e+08</td>\n",
              "    </tr>\n",
              "    <tr>\n",
              "      <th>2010-03-01</th>\n",
              "      <td>103.782227</td>\n",
              "      <td>80.031349</td>\n",
              "      <td>47.111691</td>\n",
              "      <td>7.581748</td>\n",
              "      <td>140.000000</td>\n",
              "      <td>122.609940</td>\n",
              "      <td>66.720001</td>\n",
              "      <td>19.516617</td>\n",
              "      <td>145.692307</td>\n",
              "      <td>124.980881</td>\n",
              "      <td>...</td>\n",
              "      <td>63.250000</td>\n",
              "      <td>18.663141</td>\n",
              "      <td>123.846153</td>\n",
              "      <td>121.892921</td>\n",
              "      <td>63.980000</td>\n",
              "      <td>18.814199</td>\n",
              "      <td>270393890.0</td>\n",
              "      <td>146437175.0</td>\n",
              "      <td>153461200.0</td>\n",
              "      <td>7.816918e+08</td>\n",
              "    </tr>\n",
              "    <tr>\n",
              "      <th>2010-04-01</th>\n",
              "      <td>107.545731</td>\n",
              "      <td>80.499374</td>\n",
              "      <td>49.844318</td>\n",
              "      <td>7.646300</td>\n",
              "      <td>145.076920</td>\n",
              "      <td>123.326958</td>\n",
              "      <td>70.589996</td>\n",
              "      <td>19.682779</td>\n",
              "      <td>151.538467</td>\n",
              "      <td>126.462715</td>\n",
              "      <td>...</td>\n",
              "      <td>67.059998</td>\n",
              "      <td>19.244713</td>\n",
              "      <td>140.538467</td>\n",
              "      <td>123.279160</td>\n",
              "      <td>67.059998</td>\n",
              "      <td>19.675226</td>\n",
              "      <td>210661724.0</td>\n",
              "      <td>153162014.0</td>\n",
              "      <td>135971400.0</td>\n",
              "      <td>8.485327e+08</td>\n",
              "    </tr>\n",
              "    <tr>\n",
              "      <th>2010-05-01</th>\n",
              "      <td>93.232948</td>\n",
              "      <td>78.165504</td>\n",
              "      <td>47.217594</td>\n",
              "      <td>7.283844</td>\n",
              "      <td>125.769234</td>\n",
              "      <td>119.751434</td>\n",
              "      <td>66.870003</td>\n",
              "      <td>18.353474</td>\n",
              "      <td>148.769226</td>\n",
              "      <td>127.246651</td>\n",
              "      <td>...</td>\n",
              "      <td>65.550003</td>\n",
              "      <td>17.960726</td>\n",
              "      <td>145.923080</td>\n",
              "      <td>123.699806</td>\n",
              "      <td>70.879997</td>\n",
              "      <td>19.818731</td>\n",
              "      <td>267881367.0</td>\n",
              "      <td>197112633.0</td>\n",
              "      <td>185467000.0</td>\n",
              "      <td>9.881233e+08</td>\n",
              "    </tr>\n",
              "    <tr>\n",
              "      <th>...</th>\n",
              "      <td>...</td>\n",
              "      <td>...</td>\n",
              "      <td>...</td>\n",
              "      <td>...</td>\n",
              "      <td>...</td>\n",
              "      <td>...</td>\n",
              "      <td>...</td>\n",
              "      <td>...</td>\n",
              "      <td>...</td>\n",
              "      <td>...</td>\n",
              "      <td>...</td>\n",
              "      <td>...</td>\n",
              "      <td>...</td>\n",
              "      <td>...</td>\n",
              "      <td>...</td>\n",
              "      <td>...</td>\n",
              "      <td>...</td>\n",
              "      <td>...</td>\n",
              "      <td>...</td>\n",
              "      <td>...</td>\n",
              "      <td>...</td>\n",
              "    </tr>\n",
              "    <tr>\n",
              "      <th>2021-08-01</th>\n",
              "      <td>105.016113</td>\n",
              "      <td>126.196457</td>\n",
              "      <td>232.276596</td>\n",
              "      <td>19.121510</td>\n",
              "      <td>105.410004</td>\n",
              "      <td>134.168259</td>\n",
              "      <td>237.460007</td>\n",
              "      <td>20.709970</td>\n",
              "      <td>107.230003</td>\n",
              "      <td>138.336517</td>\n",
              "      <td>...</td>\n",
              "      <td>233.050003</td>\n",
              "      <td>20.302114</td>\n",
              "      <td>104.480003</td>\n",
              "      <td>135.229446</td>\n",
              "      <td>244.240005</td>\n",
              "      <td>21.329306</td>\n",
              "      <td>202482000.0</td>\n",
              "      <td>72891244.0</td>\n",
              "      <td>45210000.0</td>\n",
              "      <td>7.898068e+08</td>\n",
              "    </tr>\n",
              "    <tr>\n",
              "      <th>2021-09-01</th>\n",
              "      <td>102.645004</td>\n",
              "      <td>126.366852</td>\n",
              "      <td>237.139908</td>\n",
              "      <td>18.835596</td>\n",
              "      <td>103.029999</td>\n",
              "      <td>132.820267</td>\n",
              "      <td>241.110001</td>\n",
              "      <td>20.400303</td>\n",
              "      <td>107.360001</td>\n",
              "      <td>134.388138</td>\n",
              "      <td>...</td>\n",
              "      <td>235.949997</td>\n",
              "      <td>20.347431</td>\n",
              "      <td>105.360001</td>\n",
              "      <td>133.824097</td>\n",
              "      <td>237.880005</td>\n",
              "      <td>20.725077</td>\n",
              "      <td>211575700.0</td>\n",
              "      <td>80160627.0</td>\n",
              "      <td>55922700.0</td>\n",
              "      <td>9.844140e+08</td>\n",
              "    </tr>\n",
              "    <tr>\n",
              "      <th>2021-10-01</th>\n",
              "      <td>104.559380</td>\n",
              "      <td>113.787468</td>\n",
              "      <td>241.506790</td>\n",
              "      <td>17.615221</td>\n",
              "      <td>104.870003</td>\n",
              "      <td>119.598473</td>\n",
              "      <td>245.550003</td>\n",
              "      <td>19.078550</td>\n",
              "      <td>110.970001</td>\n",
              "      <td>139.579346</td>\n",
              "      <td>...</td>\n",
              "      <td>236.139999</td>\n",
              "      <td>18.889729</td>\n",
              "      <td>104.180000</td>\n",
              "      <td>134.799240</td>\n",
              "      <td>243.070007</td>\n",
              "      <td>20.498489</td>\n",
              "      <td>137165100.0</td>\n",
              "      <td>150725359.0</td>\n",
              "      <td>57991500.0</td>\n",
              "      <td>1.339836e+09</td>\n",
              "    </tr>\n",
              "    <tr>\n",
              "      <th>2021-11-01</th>\n",
              "      <td>94.708633</td>\n",
              "      <td>111.410393</td>\n",
              "      <td>240.572433</td>\n",
              "      <td>16.332380</td>\n",
              "      <td>94.989998</td>\n",
              "      <td>117.099998</td>\n",
              "      <td>244.600006</td>\n",
              "      <td>17.243202</td>\n",
              "      <td>116.169998</td>\n",
              "      <td>124.779999</td>\n",
              "      <td>...</td>\n",
              "      <td>243.949997</td>\n",
              "      <td>17.031721</td>\n",
              "      <td>105.760002</td>\n",
              "      <td>119.550667</td>\n",
              "      <td>245.800003</td>\n",
              "      <td>19.229607</td>\n",
              "      <td>167035200.0</td>\n",
              "      <td>120104799.0</td>\n",
              "      <td>51361500.0</td>\n",
              "      <td>1.278173e+09</td>\n",
              "    </tr>\n",
              "    <tr>\n",
              "      <th>2021-12-01</th>\n",
              "      <td>94.190170</td>\n",
              "      <td>128.862701</td>\n",
              "      <td>265.117676</td>\n",
              "      <td>17.598621</td>\n",
              "      <td>94.470001</td>\n",
              "      <td>133.660004</td>\n",
              "      <td>268.070007</td>\n",
              "      <td>18.580059</td>\n",
              "      <td>98.940002</td>\n",
              "      <td>134.990005</td>\n",
              "      <td>...</td>\n",
              "      <td>244.110001</td>\n",
              "      <td>16.631420</td>\n",
              "      <td>96.550003</td>\n",
              "      <td>118.250000</td>\n",
              "      <td>245.759995</td>\n",
              "      <td>17.371601</td>\n",
              "      <td>126405800.0</td>\n",
              "      <td>113968900.0</td>\n",
              "      <td>58776500.0</td>\n",
              "      <td>1.834795e+09</td>\n",
              "    </tr>\n",
              "  </tbody>\n",
              "</table>\n",
              "<p>144 rows × 24 columns</p>\n",
              "</div>\n",
              "      <button class=\"colab-df-convert\" onclick=\"convertToInteractive('df-4ef26f9b-c058-4f33-9799-2bd633a2d38d')\"\n",
              "              title=\"Convert this dataframe to an interactive table.\"\n",
              "              style=\"display:none;\">\n",
              "        \n",
              "  <svg xmlns=\"http://www.w3.org/2000/svg\" height=\"24px\"viewBox=\"0 0 24 24\"\n",
              "       width=\"24px\">\n",
              "    <path d=\"M0 0h24v24H0V0z\" fill=\"none\"/>\n",
              "    <path d=\"M18.56 5.44l.94 2.06.94-2.06 2.06-.94-2.06-.94-.94-2.06-.94 2.06-2.06.94zm-11 1L8.5 8.5l.94-2.06 2.06-.94-2.06-.94L8.5 2.5l-.94 2.06-2.06.94zm10 10l.94 2.06.94-2.06 2.06-.94-2.06-.94-.94-2.06-.94 2.06-2.06.94z\"/><path d=\"M17.41 7.96l-1.37-1.37c-.4-.4-.92-.59-1.43-.59-.52 0-1.04.2-1.43.59L10.3 9.45l-7.72 7.72c-.78.78-.78 2.05 0 2.83L4 21.41c.39.39.9.59 1.41.59.51 0 1.02-.2 1.41-.59l7.78-7.78 2.81-2.81c.8-.78.8-2.07 0-2.86zM5.41 20L4 18.59l7.72-7.72 1.47 1.35L5.41 20z\"/>\n",
              "  </svg>\n",
              "      </button>\n",
              "      \n",
              "  <style>\n",
              "    .colab-df-container {\n",
              "      display:flex;\n",
              "      flex-wrap:wrap;\n",
              "      gap: 12px;\n",
              "    }\n",
              "\n",
              "    .colab-df-convert {\n",
              "      background-color: #E8F0FE;\n",
              "      border: none;\n",
              "      border-radius: 50%;\n",
              "      cursor: pointer;\n",
              "      display: none;\n",
              "      fill: #1967D2;\n",
              "      height: 32px;\n",
              "      padding: 0 0 0 0;\n",
              "      width: 32px;\n",
              "    }\n",
              "\n",
              "    .colab-df-convert:hover {\n",
              "      background-color: #E2EBFA;\n",
              "      box-shadow: 0px 1px 2px rgba(60, 64, 67, 0.3), 0px 1px 3px 1px rgba(60, 64, 67, 0.15);\n",
              "      fill: #174EA6;\n",
              "    }\n",
              "\n",
              "    [theme=dark] .colab-df-convert {\n",
              "      background-color: #3B4455;\n",
              "      fill: #D2E3FC;\n",
              "    }\n",
              "\n",
              "    [theme=dark] .colab-df-convert:hover {\n",
              "      background-color: #434B5C;\n",
              "      box-shadow: 0px 1px 3px 1px rgba(0, 0, 0, 0.15);\n",
              "      filter: drop-shadow(0px 1px 2px rgba(0, 0, 0, 0.3));\n",
              "      fill: #FFFFFF;\n",
              "    }\n",
              "  </style>\n",
              "\n",
              "      <script>\n",
              "        const buttonEl =\n",
              "          document.querySelector('#df-4ef26f9b-c058-4f33-9799-2bd633a2d38d button.colab-df-convert');\n",
              "        buttonEl.style.display =\n",
              "          google.colab.kernel.accessAllowed ? 'block' : 'none';\n",
              "\n",
              "        async function convertToInteractive(key) {\n",
              "          const element = document.querySelector('#df-4ef26f9b-c058-4f33-9799-2bd633a2d38d');\n",
              "          const dataTable =\n",
              "            await google.colab.kernel.invokeFunction('convertToInteractive',\n",
              "                                                     [key], {});\n",
              "          if (!dataTable) return;\n",
              "\n",
              "          const docLinkHtml = 'Like what you see? Visit the ' +\n",
              "            '<a target=\"_blank\" href=https://colab.research.google.com/notebooks/data_table.ipynb>data table notebook</a>'\n",
              "            + ' to learn more about interactive tables.';\n",
              "          element.innerHTML = '';\n",
              "          dataTable['output_type'] = 'display_data';\n",
              "          await google.colab.output.renderOutput(dataTable, element);\n",
              "          const docLink = document.createElement('div');\n",
              "          docLink.innerHTML = docLinkHtml;\n",
              "          element.appendChild(docLink);\n",
              "        }\n",
              "      </script>\n",
              "    </div>\n",
              "  </div>\n",
              "  "
            ]
          },
          "metadata": {},
          "execution_count": 87
        }
      ]
    },
    {
      "cell_type": "markdown",
      "source": [
        "Medida desviación estandar"
      ],
      "metadata": {
        "id": "FG40YUWnq0Pk"
      }
    },
    {
      "cell_type": "code",
      "source": [
        "#Volatilidad mensual Close-to-close: desvest\n",
        "retornos = np.log(precios/precios.shift(1)).dropna()\n",
        "sigma_d = retornos.std()\n",
        "mean_d=retornos.mean()\n",
        "mean_d\n",
        "sigma_d*np.sqrt(12)"
      ],
      "metadata": {
        "colab": {
          "base_uri": "https://localhost:8080/"
        },
        "id": "mXiqb-QFT53g",
        "outputId": "418e7799-5674-426a-9acd-3cb5b9cfe8bf"
      },
      "execution_count": 88,
      "outputs": [
        {
          "output_type": "execute_result",
          "data": {
            "text/plain": [
              "GE     0.301157\n",
              "IBM    0.209703\n",
              "MCD    0.147183\n",
              "T      0.167311\n",
              "dtype: float64"
            ]
          },
          "metadata": {},
          "execution_count": 88
        }
      ]
    },
    {
      "cell_type": "markdown",
      "source": [
        ""
      ],
      "metadata": {
        "id": "yW8buh0Runzl"
      }
    },
    {
      "cell_type": "code",
      "source": [
        "roll_std = (retornos.rolling(window=30).std())\n",
        "roll_std.plot()"
      ],
      "metadata": {
        "colab": {
          "base_uri": "https://localhost:8080/",
          "height": 296
        },
        "id": "3Jn-UzcNT67R",
        "outputId": "567ff604-cc01-4eaa-a670-f16881813b13"
      },
      "execution_count": 89,
      "outputs": [
        {
          "output_type": "execute_result",
          "data": {
            "text/plain": [
              "<matplotlib.axes._subplots.AxesSubplot at 0x7f34404cf310>"
            ]
          },
          "metadata": {},
          "execution_count": 89
        },
        {
          "output_type": "display_data",
          "data": {
            "text/plain": [
              "<Figure size 432x288 with 1 Axes>"
            ],
            "image/png": "[encoded data removed]"
          },
          "metadata": {
            "needs_background": "light"
          }
        }
      ]
    },
    {
      "cell_type": "markdown",
      "source": [
        "Medida de Prkinson"
      ],
      "metadata": {
        "id": "bo51meDYq5sU"
      }
    },
    {
      "cell_type": "code",
      "source": [
        " \n",
        "lnHL = np.log(precios2[\"High\"]/precios2[\"Low\"]).dropna()\n",
        "sigmaPark_d = (((1/(4*np.log(2)))*lnHL**2)-(retornos.mean()**2)).mean()**0.5\n",
        "sigmaPark_d"
      ],
      "metadata": {
        "colab": {
          "base_uri": "https://localhost:8080/"
        },
        "id": "OL-A4rLpTNlb",
        "outputId": "5d5c742e-7131-426b-9907-6b68decf7c8b"
      },
      "execution_count": 90,
      "outputs": [
        {
          "output_type": "execute_result",
          "data": {
            "text/plain": [
              "GE     0.093021\n",
              "IBM    0.062220\n",
              "MCD    0.049406\n",
              "T      0.054067\n",
              "dtype: float64"
            ]
          },
          "metadata": {},
          "execution_count": 90
        }
      ]
    },
    {
      "cell_type": "code",
      "source": [
        "\n",
        "sigmaPark=sigmaPark_d*np.sqrt(12)\n",
        "sigmaPark"
      ],
      "metadata": {
        "colab": {
          "base_uri": "https://localhost:8080/"
        },
        "id": "Rkb8WM0hTbH2",
        "outputId": "f38b7956-538c-4a55-b921-60fdd9008f97"
      },
      "execution_count": 91,
      "outputs": [
        {
          "output_type": "execute_result",
          "data": {
            "text/plain": [
              "GE     0.322234\n",
              "IBM    0.215535\n",
              "MCD    0.171148\n",
              "T      0.187294\n",
              "dtype: float64"
            ]
          },
          "metadata": {},
          "execution_count": 91
        }
      ]
    },
    {
      "cell_type": "markdown",
      "source": [
        "Medida Garman- Klass"
      ],
      "metadata": {
        "id": "ewN929hYrUJq"
      }
    },
    {
      "cell_type": "code",
      "source": [
        "lnHL = np.log(precios2[\"High\"]/precios2[\"Low\"]).dropna()\n",
        "lnCO = np.log(precios2[\"Close\"]/precios2[\"Open\"]).dropna()\n",
        "sigmaGK_d = ((0.5*lnHL**2-(2*np.log(2)-1)*lnCO**2)-(retornos.mean()**2)).mean()**0.5\n",
        "sigmaGK_d\n",
        "\n",
        "\n",
        "\n"
      ],
      "metadata": {
        "colab": {
          "base_uri": "https://localhost:8080/"
        },
        "id": "hKeXyMgMdNla",
        "outputId": "b5d34429-60d8-4bda-9f2b-47338f137607"
      },
      "execution_count": 115,
      "outputs": [
        {
          "output_type": "execute_result",
          "data": {
            "text/plain": [
              "GE     0.094820\n",
              "IBM    0.063019\n",
              "MCD    0.052101\n",
              "T      0.055676\n",
              "dtype: float64"
            ]
          },
          "metadata": {},
          "execution_count": 115
        }
      ]
    },
    {
      "cell_type": "code",
      "source": [
        "# Volatilidad anual\n",
        "sigmaGK=sigmaGK_d*np.sqrt(12)\n",
        "sigmaGK"
      ],
      "metadata": {
        "colab": {
          "base_uri": "https://localhost:8080/"
        },
        "id": "HvNLpWaEpQdW",
        "outputId": "d9bb47bb-8810-469d-9183-69294cdeb0c3"
      },
      "execution_count": 106,
      "outputs": [
        {
          "output_type": "execute_result",
          "data": {
            "text/plain": [
              "GE     0.328467\n",
              "IBM    0.218304\n",
              "MCD    0.180484\n",
              "T      0.192866\n",
              "dtype: float64"
            ]
          },
          "metadata": {},
          "execution_count": 106
        }
      ]
    },
    {
      "cell_type": "markdown",
      "source": [
        "Medida EWMA"
      ],
      "metadata": {
        "id": "xCN6LY0prZle"
      }
    },
    {
      "cell_type": "code",
      "source": [
        "# En primer lugar definimos la función\n",
        "\n",
        "def EWMAvol(retornos,Lambda):\n",
        "  m = len(retornos) \n",
        "  b = np.arange(m-1,-1,-1) # secuencia decreciente\n",
        "  l = np.repeat(0.94,m)\n",
        "\n",
        "  varewma = ((np.power(retornos,2)*(np.power(l,b))).sum())*(1-Lambda)\n",
        "  EWMAvol = np.sqrt(varewma)\n",
        "  return(EWMAvol)"
      ],
      "metadata": {
        "id": "_NL5TaxlVb-I"
      },
      "execution_count": 116,
      "outputs": []
    },
    {
      "cell_type": "code",
      "source": [
        "m = len(retornos) \n",
        "#Son 143 los retornos\n",
        "m"
      ],
      "metadata": {
        "colab": {
          "base_uri": "https://localhost:8080/"
        },
        "id": "cgXVy37JVdck",
        "outputId": "cebc47d3-2a2c-4250-8a0e-cd627c3d39cd"
      },
      "execution_count": 57,
      "outputs": [
        {
          "output_type": "execute_result",
          "data": {
            "text/plain": [
              "143"
            ]
          },
          "metadata": {},
          "execution_count": 57
        }
      ]
    },
    {
      "cell_type": "code",
      "source": [
        "#Se calcula la EWMA de cada accion\n",
        "Lambda = 0.94\n",
        "sigmaewma1 = EWMAvol(retornos[\"GE\"],Lambda)*np.sqrt(12)\n",
        "sigmaewma1"
      ],
      "metadata": {
        "colab": {
          "base_uri": "https://localhost:8080/"
        },
        "id": "wtwaMO1MVqMd",
        "outputId": "42dbaf7b-b60d-40b4-95df-8f593c8161bd"
      },
      "execution_count": 58,
      "outputs": [
        {
          "output_type": "execute_result",
          "data": {
            "text/plain": [
              "0.3650606863823513"
            ]
          },
          "metadata": {},
          "execution_count": 58
        }
      ]
    },
    {
      "cell_type": "code",
      "source": [
        "Lambda = 0.94\n",
        "sigmaewma2 = EWMAvol(retornos[\"IBM\"],Lambda)*np.sqrt(12)\n",
        "sigmaewma2"
      ],
      "metadata": {
        "colab": {
          "base_uri": "https://localhost:8080/"
        },
        "id": "F3293l3IVtva",
        "outputId": "47bf19d5-f2bf-44f6-8df3-df5d22c54064"
      },
      "execution_count": 59,
      "outputs": [
        {
          "output_type": "execute_result",
          "data": {
            "text/plain": [
              "0.25637087543312825"
            ]
          },
          "metadata": {},
          "execution_count": 59
        }
      ]
    },
    {
      "cell_type": "code",
      "source": [
        "Lambda = 0.94\n",
        "sigmaewma3 = EWMAvol(retornos[\"MCD\"],Lambda)*np.sqrt(12)\n",
        "sigmaewma3"
      ],
      "metadata": {
        "colab": {
          "base_uri": "https://localhost:8080/"
        },
        "id": "L2qeejn9VvEJ",
        "outputId": "07f6b8d5-91f6-4478-8caa-f9495d7ad015"
      },
      "execution_count": 61,
      "outputs": [
        {
          "output_type": "execute_result",
          "data": {
            "text/plain": [
              "0.1818067564831486"
            ]
          },
          "metadata": {},
          "execution_count": 61
        }
      ]
    },
    {
      "cell_type": "code",
      "source": [
        "Lambda = 0.94\n",
        "sigmaewma4 = EWMAvol(retornos[\"T\"],Lambda)*np.sqrt(12)\n",
        "sigmaewma4"
      ],
      "metadata": {
        "colab": {
          "base_uri": "https://localhost:8080/"
        },
        "id": "3fOf0GKtVze8",
        "outputId": "a8f92143-e5c9-4d22-fde8-45596f9ab1de"
      },
      "execution_count": 62,
      "outputs": [
        {
          "output_type": "execute_result",
          "data": {
            "text/plain": [
              "0.18827758650581483"
            ]
          },
          "metadata": {},
          "execution_count": 62
        }
      ]
    },
    {
      "cell_type": "markdown",
      "source": [
        "**Volatilidades Dataframe**\n"
      ],
      "metadata": {
        "id": "c-XP1iHVre3l"
      }
    },
    {
      "cell_type": "code",
      "source": [
        "ewmadf=pd.DataFrame({\n",
        "    \"Volatilidad\":[\"EWMA\",\"Close to Close STD\",\"Parkinson\",\"Garman-Klass\"],\n",
        "    \"GE\":[sigmaewma1,Estadistica.iloc[2,0],sigmaPark[\"GE\"],sigmaGK[\"GE\"]],\n",
        "    \"IBM\":[sigmaewma2,Estadistica.iloc[2,1],sigmaPark[\"IBM\"],sigmaGK[\"IBM\"]],\n",
        "    \"MCD\":[sigmaewma3,Estadistica.iloc[2,2],sigmaPark[\"MCD\"],sigmaGK[\"MCD\"]],\n",
        "    \"T\":[sigmaewma4,Estadistica.iloc[2,3],sigmaPark[\"T\"],sigmaGK[\"T\"]],\n",
        "})\n",
        "ewmadf"
      ],
      "metadata": {
        "colab": {
          "base_uri": "https://localhost:8080/",
          "height": 175
        },
        "id": "8WrsDBB4ThWg",
        "outputId": "93ab909b-ae47-4da3-c376-8b78f2f0e1b6"
      },
      "execution_count": 117,
      "outputs": [
        {
          "output_type": "execute_result",
          "data": {
            "text/plain": [
              "          Volatilidad        GE       IBM       MCD         T\n",
              "0                EWMA  0.365061  0.256371  0.181807  0.188278\n",
              "1  Close to Close STD  0.012605  0.011742  0.042488  1.596986\n",
              "2           Parkinson  0.322234  0.215535  0.171148  0.187294\n",
              "3        Garman-Klass  0.328467  0.218304  0.180484  0.192866"
            ],
            "text/html": [
              "\n",
              "  <div id=\"df-db6116b6-cefe-49fe-948a-65d6654265ab\">\n",
              "    <div class=\"colab-df-container\">\n",
              "      <div>\n",
              "<style scoped>\n",
              "    .dataframe tbody tr th:only-of-type {\n",
              "        vertical-align: middle;\n",
              "    }\n",
              "\n",
              "    .dataframe tbody tr th {\n",
              "        vertical-align: top;\n",
              "    }\n",
              "\n",
              "    .dataframe thead th {\n",
              "        text-align: right;\n",
              "    }\n",
              "</style>\n",
              "<table border=\"1\" class=\"dataframe\">\n",
              "  <thead>\n",
              "    <tr style=\"text-align: right;\">\n",
              "      <th></th>\n",
              "      <th>Volatilidad</th>\n",
              "      <th>GE</th>\n",
              "      <th>IBM</th>\n",
              "      <th>MCD</th>\n",
              "      <th>T</th>\n",
              "    </tr>\n",
              "  </thead>\n",
              "  <tbody>\n",
              "    <tr>\n",
              "      <th>0</th>\n",
              "      <td>EWMA</td>\n",
              "      <td>0.365061</td>\n",
              "      <td>0.256371</td>\n",
              "      <td>0.181807</td>\n",
              "      <td>0.188278</td>\n",
              "    </tr>\n",
              "    <tr>\n",
              "      <th>1</th>\n",
              "      <td>Close to Close STD</td>\n",
              "      <td>0.012605</td>\n",
              "      <td>0.011742</td>\n",
              "      <td>0.042488</td>\n",
              "      <td>1.596986</td>\n",
              "    </tr>\n",
              "    <tr>\n",
              "      <th>2</th>\n",
              "      <td>Parkinson</td>\n",
              "      <td>0.322234</td>\n",
              "      <td>0.215535</td>\n",
              "      <td>0.171148</td>\n",
              "      <td>0.187294</td>\n",
              "    </tr>\n",
              "    <tr>\n",
              "      <th>3</th>\n",
              "      <td>Garman-Klass</td>\n",
              "      <td>0.328467</td>\n",
              "      <td>0.218304</td>\n",
              "      <td>0.180484</td>\n",
              "      <td>0.192866</td>\n",
              "    </tr>\n",
              "  </tbody>\n",
              "</table>\n",
              "</div>\n",
              "      <button class=\"colab-df-convert\" onclick=\"convertToInteractive('df-db6116b6-cefe-49fe-948a-65d6654265ab')\"\n",
              "              title=\"Convert this dataframe to an interactive table.\"\n",
              "              style=\"display:none;\">\n",
              "        \n",
              "  <svg xmlns=\"http://www.w3.org/2000/svg\" height=\"24px\"viewBox=\"0 0 24 24\"\n",
              "       width=\"24px\">\n",
              "    <path d=\"M0 0h24v24H0V0z\" fill=\"none\"/>\n",
              "    <path d=\"M18.56 5.44l.94 2.06.94-2.06 2.06-.94-2.06-.94-.94-2.06-.94 2.06-2.06.94zm-11 1L8.5 8.5l.94-2.06 2.06-.94-2.06-.94L8.5 2.5l-.94 2.06-2.06.94zm10 10l.94 2.06.94-2.06 2.06-.94-2.06-.94-.94-2.06-.94 2.06-2.06.94z\"/><path d=\"M17.41 7.96l-1.37-1.37c-.4-.4-.92-.59-1.43-.59-.52 0-1.04.2-1.43.59L10.3 9.45l-7.72 7.72c-.78.78-.78 2.05 0 2.83L4 21.41c.39.39.9.59 1.41.59.51 0 1.02-.2 1.41-.59l7.78-7.78 2.81-2.81c.8-.78.8-2.07 0-2.86zM5.41 20L4 18.59l7.72-7.72 1.47 1.35L5.41 20z\"/>\n",
              "  </svg>\n",
              "      </button>\n",
              "      \n",
              "  <style>\n",
              "    .colab-df-container {\n",
              "      display:flex;\n",
              "      flex-wrap:wrap;\n",
              "      gap: 12px;\n",
              "    }\n",
              "\n",
              "    .colab-df-convert {\n",
              "      background-color: #E8F0FE;\n",
              "      border: none;\n",
              "      border-radius: 50%;\n",
              "      cursor: pointer;\n",
              "      display: none;\n",
              "      fill: #1967D2;\n",
              "      height: 32px;\n",
              "      padding: 0 0 0 0;\n",
              "      width: 32px;\n",
              "    }\n",
              "\n",
              "    .colab-df-convert:hover {\n",
              "      background-color: #E2EBFA;\n",
              "      box-shadow: 0px 1px 2px rgba(60, 64, 67, 0.3), 0px 1px 3px 1px rgba(60, 64, 67, 0.15);\n",
              "      fill: #174EA6;\n",
              "    }\n",
              "\n",
              "    [theme=dark] .colab-df-convert {\n",
              "      background-color: #3B4455;\n",
              "      fill: #D2E3FC;\n",
              "    }\n",
              "\n",
              "    [theme=dark] .colab-df-convert:hover {\n",
              "      background-color: #434B5C;\n",
              "      box-shadow: 0px 1px 3px 1px rgba(0, 0, 0, 0.15);\n",
              "      filter: drop-shadow(0px 1px 2px rgba(0, 0, 0, 0.3));\n",
              "      fill: #FFFFFF;\n",
              "    }\n",
              "  </style>\n",
              "\n",
              "      <script>\n",
              "        const buttonEl =\n",
              "          document.querySelector('#df-db6116b6-cefe-49fe-948a-65d6654265ab button.colab-df-convert');\n",
              "        buttonEl.style.display =\n",
              "          google.colab.kernel.accessAllowed ? 'block' : 'none';\n",
              "\n",
              "        async function convertToInteractive(key) {\n",
              "          const element = document.querySelector('#df-db6116b6-cefe-49fe-948a-65d6654265ab');\n",
              "          const dataTable =\n",
              "            await google.colab.kernel.invokeFunction('convertToInteractive',\n",
              "                                                     [key], {});\n",
              "          if (!dataTable) return;\n",
              "\n",
              "          const docLinkHtml = 'Like what you see? Visit the ' +\n",
              "            '<a target=\"_blank\" href=https://colab.research.google.com/notebooks/data_table.ipynb>data table notebook</a>'\n",
              "            + ' to learn more about interactive tables.';\n",
              "          element.innerHTML = '';\n",
              "          dataTable['output_type'] = 'display_data';\n",
              "          await google.colab.output.renderOutput(dataTable, element);\n",
              "          const docLink = document.createElement('div');\n",
              "          docLink.innerHTML = docLinkHtml;\n",
              "          element.appendChild(docLink);\n",
              "        }\n",
              "      </script>\n",
              "    </div>\n",
              "  </div>\n",
              "  "
            ]
          },
          "metadata": {},
          "execution_count": 117
        }
      ]
    },
    {
      "cell_type": "markdown",
      "source": [
        "b. Para un solo activo de su elección, presente las gráficas para las últimas tres medidas\n",
        "de volatilidad."
      ],
      "metadata": {
        "id": "3pnSeMV-p4SI"
      }
    },
    {
      "cell_type": "markdown",
      "source": [
        "PARKINSON"
      ],
      "metadata": {
        "id": "SJCzOCHTp_mG"
      }
    },
    {
      "cell_type": "code",
      "source": [
        "sigmaPark_dp = (((1/(4*np.log(2)))*lnHL**2)-(retornos.mean()**2))**0.5\n",
        "sigmaPark_dp[\"IBM\"].plot()"
      ],
      "metadata": {
        "colab": {
          "base_uri": "https://localhost:8080/",
          "height": 296
        },
        "id": "VzQtEARhp6l8",
        "outputId": "00ec4b52-ef50-4e27-d9f4-7aac677204a1"
      },
      "execution_count": 110,
      "outputs": [
        {
          "output_type": "execute_result",
          "data": {
            "text/plain": [
              "<matplotlib.axes._subplots.AxesSubplot at 0x7f3441939050>"
            ]
          },
          "metadata": {},
          "execution_count": 110
        },
        {
          "output_type": "display_data",
          "data": {
            "text/plain": [
              "<Figure size 432x288 with 1 Axes>"
            ],
            "image/png": "[encoded data removed]"
          },
          "metadata": {
            "needs_background": "light"
          }
        }
      ]
    },
    {
      "cell_type": "markdown",
      "source": [
        "Garman-Klass"
      ],
      "metadata": {
        "id": "oUQHWdLxqKGZ"
      }
    },
    {
      "cell_type": "code",
      "source": [
        "sigmaGK_dp = ((0.5*lnHL**2-(2*np.log(2)-1)*lnCO**2)-(retornos.mean()**2))**0.5\n",
        "sigmaGK_dp[\"IBM\"].plot()"
      ],
      "metadata": {
        "colab": {
          "base_uri": "https://localhost:8080/",
          "height": 296
        },
        "id": "DPgUyqEnqPAa",
        "outputId": "92b1c792-fe11-4c72-d79d-1b732c2428df"
      },
      "execution_count": 112,
      "outputs": [
        {
          "output_type": "execute_result",
          "data": {
            "text/plain": [
              "<matplotlib.axes._subplots.AxesSubplot at 0x7f343e70e350>"
            ]
          },
          "metadata": {},
          "execution_count": 112
        },
        {
          "output_type": "display_data",
          "data": {
            "text/plain": [
              "<Figure size 432x288 with 1 Axes>"
            ],
            "image/png": "[encoded data removed]"
          },
          "metadata": {
            "needs_background": "light"
          }
        }
      ]
    },
    {
      "cell_type": "markdown",
      "source": [
        "EWMA"
      ],
      "metadata": {
        "id": "QSB_uE5yqUWs"
      }
    },
    {
      "cell_type": "code",
      "source": [
        "\n",
        "m = len(retornos) \n",
        "b = np.arange(m-1,-1,-1) # secuencia decreciente\n",
        "l = np.repeat(0.94,m)\n",
        "\n",
        "varewma = ((np.power(retornos[\"IBM\"],2)*(np.power(l,b))))*(1-Lambda)\n",
        "varewma.plot()\n"
      ],
      "metadata": {
        "colab": {
          "base_uri": "https://localhost:8080/",
          "height": 296
        },
        "id": "ghlC-nqhqUn9",
        "outputId": "8e5e47c4-2499-4a12-b1f6-eae98e05eb53"
      },
      "execution_count": 114,
      "outputs": [
        {
          "output_type": "execute_result",
          "data": {
            "text/plain": [
              "<matplotlib.axes._subplots.AxesSubplot at 0x7f343e605dd0>"
            ]
          },
          "metadata": {},
          "execution_count": 114
        },
        {
          "output_type": "display_data",
          "data": {
            "text/plain": [
              "<Figure size 432x288 with 1 Axes>"
            ],
            "image/png": "[encoded data removed]"
          },
          "metadata": {
            "needs_background": "light"
          }
        }
      ]
    }
  ]
}